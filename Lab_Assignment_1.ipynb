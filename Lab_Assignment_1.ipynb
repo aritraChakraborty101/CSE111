{
  "cells": [
    {
      "cell_type": "markdown",
      "metadata": {
        "id": "xW98Q5Kuv0fn"
      },
      "source": [
        "**String**"
      ]
    },
    {
      "cell_type": "code",
      "execution_count": null,
      "metadata": {
        "id": "h380Lixpvf8y"
      },
      "outputs": [],
      "source": [
        "# Task 1\n",
        "text = input()\n",
        "cap_count = low_count = 0\n",
        "\n",
        "for letter in text:\n",
        "  if \"A\" <= letter <= \"Z\":\n",
        "    cap_count += 1\n",
        "  else:\n",
        "    low_count += 1\n",
        "\n",
        "if cap_count > low_count:\n",
        "  print(text.upper())\n",
        "else:\n",
        "  print(text.lower())"
      ]
    },
    {
      "cell_type": "code",
      "source": [
        "# Task 2\n",
        "\n",
        "letters = \"ABCDEFGHIJKLMNOPQRSTUVWXYZ\"\n",
        "numbers = \"0123456789\"\n",
        "\n",
        "text = input().upper()\n",
        "\n",
        "is_num = False\n",
        "is_word = False\n",
        "for letter in letters:\n",
        "  if letter in text:\n",
        "    is_word = True\n",
        "    break\n",
        "for number in numbers:\n",
        "  if number in text:\n",
        "    is_num = True\n",
        "    break\n",
        "if is_word and is_num:\n",
        "  print(\"MIXED\")\n",
        "elif is_word:\n",
        "  print(\"WORD\")\n",
        "else:\n",
        "  print(\"NUMBER\")"
      ],
      "metadata": {
        "colab": {
          "base_uri": "https://localhost:8080/"
        },
        "id": "I_ekaBNhyPcQ",
        "outputId": "f50877e3-48c0-4fbf-f2e9-923e754f8419"
      },
      "execution_count": null,
      "outputs": [
        {
          "output_type": "stream",
          "name": "stdout",
          "text": [
            "hello\n",
            "WORD\n"
          ]
        }
      ]
    },
    {
      "cell_type": "code",
      "source": [
        "# Task 3\n",
        "\n",
        "text = input()\n",
        "\n",
        "for letter in text:\n",
        "  if \"A\" <= letter <= \"Z\":\n",
        "    idx1 = text.index(letter)\n",
        "    break\n",
        "for letter in text[idx1+1:]:\n",
        "  if \"A\" <= letter <= \"Z\":\n",
        "    idx2 = text.index(letter)\n",
        "\n",
        "if idx1 + 1 == idx2:\n",
        "  print(\"BLANK\")\n",
        "else:\n",
        "  print(text[idx1+1:idx2])"
      ],
      "metadata": {
        "id": "_cAidPhjyyx6"
      },
      "execution_count": null,
      "outputs": []
    },
    {
      "cell_type": "code",
      "source": [
        "# Task 4\n",
        "\n",
        "text = input().split(\", \")\n",
        "result = \"\"\n",
        "\n",
        "for char in text[0]:\n",
        "  if char in text[1]:\n",
        "    result += char\n",
        "for char in text[1]:\n",
        "  if char in text[0]:\n",
        "    result += char\n",
        "if result == \"\":\n",
        "  print(\"Nothing in common.\")\n",
        "else:\n",
        "  print(result)"
      ],
      "metadata": {
        "id": "4rR9q7_y2AOL"
      },
      "execution_count": null,
      "outputs": []
    },
    {
      "cell_type": "code",
      "source": [
        "# Task 5\n",
        "\n",
        "password = input()\n",
        "\n",
        "has_cap = False\n",
        "has_low = False\n",
        "has_num = False\n",
        "has_char = False\n",
        "\n",
        "errors = []\n",
        "\n",
        "for char in password:\n",
        "  if \"A\" < char < \"Z\":\n",
        "    has_cap = True\n",
        "  elif \"a\" < char < \"z\":\n",
        "    has_low = True\n",
        "  elif \"0\" < char < \"9\":\n",
        "    has_num = True\n",
        "  elif char in \"_$#@\":\n",
        "    has_char = True\n",
        "\n",
        "if not has_cap:\n",
        "  errors.append(\"Uppercase character missing\")\n",
        "if not has_low:\n",
        "  errors.append(\"Lowercase character missing\")\n",
        "if not has_num:\n",
        "  errors.append(\"Digit missing\")\n",
        "if not has_char:\n",
        "  errors.append(\"Special character missing\")\n",
        "\n",
        "if len(errors) > 0:\n",
        "  for idx in range(len(errors)):\n",
        "    if idx == len(errors)-1:\n",
        "      print(errors[idx])\n",
        "    else:\n",
        "      print(errors[idx], end=\", \")\n",
        "else:\n",
        "  print(\"OK\")"
      ],
      "metadata": {
        "id": "5rvShlbG3CaW",
        "colab": {
          "base_uri": "https://localhost:8080/"
        },
        "outputId": "fc4e4ef7-5b50-4461-d555-317b1074cdd9"
      },
      "execution_count": null,
      "outputs": [
        {
          "output_type": "stream",
          "name": "stdout",
          "text": [
            "OhmybR@cu12\n",
            "OK\n"
          ]
        }
      ]
    },
    {
      "cell_type": "markdown",
      "source": [
        "**List**"
      ],
      "metadata": {
        "id": "tW4r9NT58Uf5"
      }
    },
    {
      "cell_type": "code",
      "source": [
        "# Task 1\n",
        "\n",
        "input_num = None\n",
        "num_list = []\n",
        "num_done = []\n",
        "while num != \"STOP\":\n",
        "  num_list.append(int(input()))\n",
        "\n",
        "for num in num_list:\n",
        "  if num not in num_done:\n",
        "    print(f\"{num} - {num_list.count(num)}\")\n",
        "    num_done.append(num)"
      ],
      "metadata": {
        "id": "nzYfjdln8KEe"
      },
      "execution_count": null,
      "outputs": []
    },
    {
      "cell_type": "code",
      "source": [
        "# Task 2\n",
        "\n",
        "cases = int(input())\n",
        "\n",
        "total_lists = []\n",
        "\n",
        "for case in range(cases):\n",
        "  num_list = input().split()\n",
        "  for idx in range(len(num_list)):\n",
        "    num_list[idx] = int(num_list[idx])\n",
        "  total_lists.append(num_list)\n",
        "\n",
        "sum_list = []\n",
        "for each_list in total_lists:\n",
        "  sum_list.append(sum(each_list))\n",
        "\n",
        "index = sum_list.index(max(sum_list))\n",
        "print(sum_list[index])\n",
        "print(total_list[index])\n"
      ],
      "metadata": {
        "id": "BgFV1vOSAqj6"
      },
      "execution_count": null,
      "outputs": []
    },
    {
      "cell_type": "code",
      "source": [
        "# Task 3\n",
        "\n",
        "while True:\n",
        "  input_list = input()\n",
        "  if input_list == \"STOP\":\n",
        "    break\n",
        "  else:\n",
        "    input_list = input_list.split()\n",
        "    for idx in range(len(input_list)):\n",
        "      input_list[idx] = int(input_list[idx])\n",
        "    test = len(input_list) - 1\n",
        "    jumper = True\n",
        "    for idx in range(len(input_list)-1):\n",
        "      if abs(input_list[idx]-input_list[idx+1]) > len(input_list) - 1:\n",
        "        jumper = False\n",
        "    if jumper:\n",
        "      print(\"UB Jumper\")\n",
        "    else:\n",
        "      print(\"Not UB Jumper\")\n"
      ],
      "metadata": {
        "id": "6nXHQOdJChzq"
      },
      "execution_count": null,
      "outputs": []
    },
    {
      "cell_type": "code",
      "source": [
        "# Task 4\n",
        "\n",
        "student_num, participation_count = input().split()\n",
        "student_num = int(student_num)\n",
        "participation_count = int(participation_count)\n",
        "\n",
        "possible_team_number = student_num // 3\n",
        "\n",
        "individual_count = input().split()\n",
        "for idx in range(len(individual_count)):\n",
        "    individual_count[idx] = int(individual_count[idx])\n",
        "for idx in range(len(individual_count)):\n",
        "    individual_count[idx] = individual_count[idx] + participation_count\n",
        "\n",
        "count = 0\n",
        "for idx in range(len(individual_count)):\n",
        "    if individual_count[idx] <= 5:\n",
        "        count += 1\n",
        "if count >= (3 * possible_team_number):\n",
        "    print(possible_team_number)\n",
        "else:\n",
        "    print(0)"
      ],
      "metadata": {
        "id": "_9IXzqcdEuQr"
      },
      "execution_count": null,
      "outputs": []
    },
    {
      "cell_type": "markdown",
      "source": [
        "**Dictionary & Tuple**"
      ],
      "metadata": {
        "id": "D2F4pXWaI0-O"
      }
    },
    {
      "cell_type": "code",
      "source": [
        "# Task 1\n",
        "\n",
        "input_dict = input().split(\", \")\n",
        "dict_1 = {}\n",
        "for item in input_dict:\n",
        "  key, value = item.split(\": \")\n",
        "  value = int(value)\n",
        "  dict_1[key] = value\n",
        "\n",
        "input_dict = input().split(\", \")\n",
        "dict_2 = {}\n",
        "for item in input_dict:\n",
        "  key, value = item.split(\": \")\n",
        "  value = int(value)\n",
        "  dict_2[key] = value\n",
        "\n",
        "result = dict_1.copy()\n",
        "for key, value in dict_2.items():\n",
        "    if key in dict_1:\n",
        "        result[key] = result[key] + dict_2[key]\n",
        "    else:\n",
        "        result[key] = value\n",
        "print(result)\n",
        "print(f\"Values: {tuple(sorted(list(set(result.values()))))}\")"
      ],
      "metadata": {
        "id": "mN6uY-ujI0MX"
      },
      "execution_count": null,
      "outputs": []
    },
    {
      "cell_type": "code",
      "source": [
        "# Task 2\n",
        "\n",
        "dictionary = {}\n",
        "while True:\n",
        "  num = input()\n",
        "  if num == \"STOP\":\n",
        "    break\n",
        "  else:\n",
        "    if num not in dictionary:\n",
        "      dictionary[num] = 1\n",
        "    else:\n",
        "      dictionary[num] = dictionary[num] + 1\n",
        "for key, value in dictionary.items():\n",
        "  print(f\"{key} - {value} times\")\n",
        "    "
      ],
      "metadata": {
        "id": "-328LEbTM0Yg"
      },
      "execution_count": null,
      "outputs": []
    },
    {
      "cell_type": "code",
      "source": [
        "# Task 3\n",
        "\n",
        "input_dict = input().split(\", \")\n",
        "dict_1 = {}\n",
        "for item in input_dict:\n",
        "  key, value = item.split(\": \")\n",
        "  dict_1[key] = value\n",
        "\n",
        "result = {}\n",
        "\n",
        "for key, value in dict_1.items():\n",
        "  if value not in result:\n",
        "    result[value] = [key]\n",
        "  else:\n",
        "    result[value].append(key)\n",
        "print(result)"
      ],
      "metadata": {
        "id": "xiCwk2q2OC3v"
      },
      "execution_count": null,
      "outputs": []
    },
    {
      "cell_type": "code",
      "source": [
        "# Task 4\n",
        "\n",
        "keymap = {\n",
        "\t1: \".,?!:\",\n",
        "\t2: \"ABC\",\n",
        "\t3: \"DEF\",\n",
        "\t4: \"GHI\",\n",
        "\t5: \"JKL\",\n",
        "\t6: \"MNO\",\n",
        "\t7: \"PQRS\",\n",
        "\t8: \"TUV\",\n",
        "\t9: \"WXYZ\",\n",
        "\t0: \" \"\n",
        "}\n",
        " \n",
        "text = input().upper()\n",
        "result = \"\"\n",
        "for char in text:\n",
        "\tfor key, letters in keymap.items():\n",
        "\t\tif char in letters:\n",
        "\t\t\tresult = result + str(key) * (letters.index(char) + 1)\n",
        " \n",
        "print(result)"
      ],
      "metadata": {
        "id": "v4KmjF2-QbfL"
      },
      "execution_count": null,
      "outputs": []
    },
    {
      "cell_type": "markdown",
      "source": [
        "**Functions**"
      ],
      "metadata": {
        "id": "qkbInA2wSA5s"
      }
    },
    {
      "cell_type": "code",
      "source": [
        "# Task 1\n",
        "\n",
        "def calculate_bmi(height, weight):\n",
        "    height /= 100\n",
        "    bmi = weight/(height**2)\n",
        "    \n",
        "    if bmi > 30:\n",
        "        condition = \"Obese\"\n",
        "    elif bmi >= 25:\n",
        "        condition = \"Overweight\"\n",
        "    elif bmi >= 18.5:\n",
        "        condition = \"Normal\"\n",
        "    else:\n",
        "        condition = \"Underweight\"\n",
        "    \n",
        "    print(f\"Score is {round(bmi, 1)}. You are {condition}\")\n",
        "\n",
        "inp = input()[1:-1].split(\", \")\n",
        "calculate_bmi(int(inp[0]), int(inp[1]))"
      ],
      "metadata": {
        "id": "sVycG-t-SDVD",
        "colab": {
          "base_uri": "https://localhost:8080/"
        },
        "outputId": "d65d05ff-a1a7-49bf-cef1-7863e7cb785d"
      },
      "execution_count": null,
      "outputs": [
        {
          "output_type": "stream",
          "name": "stdout",
          "text": [
            "(152, 48)\n",
            "Score is 20.8. You are Normal\n"
          ]
        }
      ]
    },
    {
      "cell_type": "code",
      "source": [
        "# Task 2\n",
        "\n",
        "def division_sum(minimum, maximum, divisor):\n",
        "    sum = 0\n",
        "    for num in range(minimum, maximum):\n",
        "        if num % divisor == 0:\n",
        "            sum += num\n",
        "    return sum\n",
        "inp = input()[1:-1].split(\", \")\n",
        "mini, maxi, div = int(inp[0]), int(inp[1]), int(inp[2])\n",
        "print(division_sum(mini, maxi, div))"
      ],
      "metadata": {
        "colab": {
          "base_uri": "https://localhost:8080/"
        },
        "id": "nmIRqE6qzxIy",
        "outputId": "89d7001f-8c47-4482-8521-af0f8c344b28"
      },
      "execution_count": null,
      "outputs": [
        {
          "output_type": "stream",
          "name": "stdout",
          "text": [
            "(3, 16, 3)\n",
            "45\n"
          ]
        }
      ]
    },
    {
      "cell_type": "code",
      "source": [
        "# Task 3\n",
        "\n",
        "def order(name, place=\"Mohakhali\"):\n",
        "    if name == \"BBQ Chicken Cheese Burger\":\n",
        "        price = 250\n",
        "    elif name == \"Beef Burger\":\n",
        "        price = 170\n",
        "    elif name == \"Naga Drums\":\n",
        "        price = 200\n",
        "\n",
        "    price *= 1.08 # 8% tax\n",
        "    if place == \"Mohakhali\":\n",
        "        price += 40\n",
        "    else:\n",
        "        price += 60\n",
        "    return price\n",
        "\n",
        "inp = input()[1:-1].split(\", \")\n",
        "if len(inp) == 1:\n",
        "    print(round(order(inp[0][1:-1]), 2))\n",
        "else:\n",
        "    print(round(order(inp[0][1:-1], inp[1][1:-1]), 2))"
      ],
      "metadata": {
        "colab": {
          "base_uri": "https://localhost:8080/"
        },
        "id": "3IaX2Ouu1DVC",
        "outputId": "ead65730-2cd5-4af1-e9b7-3caee63f9f20"
      },
      "execution_count": null,
      "outputs": [
        {
          "output_type": "stream",
          "name": "stdout",
          "text": [
            "(‘Beef Burger’)\n",
            "223.6\n"
          ]
        }
      ]
    },
    {
      "cell_type": "code",
      "source": [
        "# Task 4\n",
        "\n",
        "def replace_domain(email, new_dom, old_dom = None):\n",
        "    if old_dom == None:\n",
        "        print(f\"Unchanged: {email}\")\n",
        "    else:\n",
        "        idx = email.index(\"@\")\n",
        "        email = email[:idx] + \"@\" + new_dom\n",
        "        print(f\"Changed: {email}\")\n",
        "\n",
        "inp = input()[1:-1].split(\", \")\n",
        "if len(inp) > 2:\n",
        "    mail = inp[0][1:-1]\n",
        "    new = inp[1][1:-1]\n",
        "    old = inp[2][1:-1]\n",
        "    replace_domain(mail, new, old)\n",
        "else:\n",
        "    mail = inp[0][1:-1]\n",
        "    new = inp[1][1:-1]\n",
        "    replace_domain(mail, new)\n",
        "    "
      ],
      "metadata": {
        "colab": {
          "base_uri": "https://localhost:8080/"
        },
        "id": "TiPS45Cb6WGg",
        "outputId": "a1dd0ef8-7de9-4231-fd55-9d691c4dbfd0"
      },
      "execution_count": null,
      "outputs": [
        {
          "output_type": "stream",
          "name": "stdout",
          "text": [
            "(‘bob@sheba.xyz’, ‘sheba.xyz’)\n",
            "Unchanged: bob@sheba.xyz\n"
          ]
        }
      ]
    },
    {
      "cell_type": "code",
      "source": [
        "# Task 5\n",
        "\n",
        "def check_palindrome(word):\n",
        "    text = \"\"\n",
        "    for char in word:\n",
        "        if char != \" \":\n",
        "            text += char\n",
        "\n",
        "    if text == text[::-1]:\n",
        "        print(\"Palindrome\")\n",
        "    else:\n",
        "        print(\"Not a palindrome\")\n",
        "inp = input()\n",
        "check_palindrome(inp)"
      ],
      "metadata": {
        "colab": {
          "base_uri": "https://localhost:8080/"
        },
        "id": "DjSisdXp9Nad",
        "outputId": "6a9a92b9-cc7f-4d57-c674-32f72580bd33"
      },
      "execution_count": null,
      "outputs": [
        {
          "output_type": "stream",
          "name": "stdout",
          "text": [
            "nurses run\n",
            "Palindrome\n"
          ]
        }
      ]
    },
    {
      "cell_type": "code",
      "source": [
        "# Task 6\n",
        "\n",
        "def capitalize():\n",
        "    text = input()[2:-2]\n",
        "    result = text[0].upper()\n",
        "    idx = 1\n",
        "    while True:\n",
        "        char = text[idx]\n",
        "        if idx == len(text)-1:\n",
        "            result += char\n",
        "            break\n",
        "        else:\n",
        "            if char == \".\" or char == \"?\" or char == \"!\":\n",
        "                result = result + (char + text[idx+1] + text[idx+2].upper())\n",
        "                idx += 3\n",
        "            else:\n",
        "                result += char\n",
        "                idx += 1\n",
        "    return result\n",
        "\n",
        "print(capitalize())\n"
      ],
      "metadata": {
        "colab": {
          "base_uri": "https://localhost:8080/"
        },
        "id": "7RJGYALnAZBm",
        "outputId": "b15f7965-02bb-493b-d0a0-39574aa974c9"
      },
      "execution_count": null,
      "outputs": [
        {
          "output_type": "stream",
          "name": "stdout",
          "text": [
            "('my favourite animal is a dog. a dog has sharp teeth so that it can eat flesh very easily. do you know my pet dog’s name? i love my pet very much.')\n",
            "My favourite animal is a dog. A dog has sharp teeth so that it can eat flesh very easily. Do you know my pet dog’s name? I love my pet very much.\n"
          ]
        }
      ]
    }
  ],
  "metadata": {
    "colab": {
      "provenance": []
    },
    "kernelspec": {
      "display_name": "Python 3",
      "name": "python3"
    },
    "language_info": {
      "name": "python"
    }
  },
  "nbformat": 4,
  "nbformat_minor": 0
}
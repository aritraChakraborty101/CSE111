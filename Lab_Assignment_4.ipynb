{
  "nbformat": 4,
  "nbformat_minor": 0,
  "metadata": {
    "colab": {
      "provenance": []
    },
    "kernelspec": {
      "name": "python3",
      "display_name": "Python 3"
    },
    "language_info": {
      "name": "python"
    }
  },
  "cells": [
    {
      "cell_type": "code",
      "execution_count": null,
      "metadata": {
        "colab": {
          "base_uri": "https://localhost:8080/"
        },
        "id": "vvyh_0BG5P5C",
        "outputId": "30a3f061-e9df-4b08-c3d9-ff70cf6b9873"
      },
      "outputs": [
        {
          "output_type": "stream",
          "name": "stdout",
          "text": [
            "Hello!\n",
            "Sam, you purchased 3 item(s):\n",
            "chips\n",
            "chocolate\n",
            "orange juice\n",
            "-----------------------------\n",
            "Hello, David\n",
            "David, you purchased 1 item(s):\n",
            "orange juice\n"
          ]
        }
      ],
      "source": [
        "# Task 1\n",
        "\n",
        "class Customer:\n",
        "  def __init__(self, name):\n",
        "    self.name = name\n",
        "  def greet(self, name = None):\n",
        "    if name == None:\n",
        "      print(\"Hello!\")\n",
        "    else:\n",
        "      print(f\"Hello, {name}\")\n",
        "  def purchase(self, *items):\n",
        "    self.items = items\n",
        "    print(f\"{self.name}, you purchased {len(self.items)} item(s):\")\n",
        "    for item in self.items:\n",
        "      print(item)\n",
        "\n",
        "\n",
        "customer_1 = Customer(\"Sam\")\n",
        "customer_1.greet()\n",
        "customer_1.purchase(\"chips\", \"chocolate\", \"orange juice\")\n",
        "print(\"-----------------------------\")\n",
        "customer_2 = Customer(\"David\")\n",
        "customer_2.greet(\"David\")\n",
        "customer_2.purchase(\"orange juice\")\n"
      ]
    },
    {
      "cell_type": "code",
      "source": [
        "# Task 2\n",
        "\n",
        "class Panda:\n",
        "  def __init__(self, name, gender, age):\n",
        "    self.name = name\n",
        "    self.gender = gender\n",
        "    self.age = age\n",
        "\n",
        "  def sleep(self, hours = 0):\n",
        "    self.hours = hours\n",
        "    if self.hours == 0:\n",
        "      return f\"{self.name}'s duration is unknown thus should have only bamboo leaves\"\n",
        "    else:\n",
        "      if self.hours >= 9 and hours <= 11:\n",
        "        self.food = \"Broccoli Chicken\"\n",
        "      elif self.hours >= 6 and hours <= 8:\n",
        "        self.food = \"Eggplant & Tofu\"\n",
        "      elif self.hours >= 3 and hours <= 5:\n",
        "        self.food = \"Mixed Veggies\"\n",
        "      return f\"{self.name} sleeps {self.hours} hours daily and should have {self.food}\"\n",
        "\n",
        "\n",
        "panda1 = Panda(\"Kunfu\",\"Male\", 5)\n",
        "panda2=Panda(\"Pan Pan\",\"Female\",3)\n",
        "panda3=Panda(\"Ming Ming\",\"Female\",8)\n",
        "\n",
        "print(\"{} is a {} Panda Bear who is {} years old\".format(panda1.name,panda1.gender,panda1.age))\n",
        "\n",
        "print(\"{} is a {} Panda Bear who is {} years old\".format(panda2.name,panda2.gender,panda2.age))\n",
        "\n",
        "print(\"{} is a {} Panda Bear who is {} years old\".format(panda3.name,panda3.gender,panda3.age))\n",
        "print(\"===========================\")\n",
        "print(panda2.sleep(10))\n",
        "print(panda1.sleep(4))\n",
        "print(panda3.sleep())\n"
      ],
      "metadata": {
        "colab": {
          "base_uri": "https://localhost:8080/"
        },
        "id": "atvJduP76gNT",
        "outputId": "c6c98f0f-f6a0-458a-8fa7-61a4b6aaca88"
      },
      "execution_count": null,
      "outputs": [
        {
          "output_type": "stream",
          "name": "stdout",
          "text": [
            "Kunfu is a Male Panda Bear who is 5 years old\n",
            "Pan Pan is a Female Panda Bear who is 3 years old\n",
            "Ming Ming is a Female Panda Bear who is 8 years old\n",
            "===========================\n",
            "Pan Pan sleeps 10 hours daily and should have Broccoli Chicken\n",
            "Kunfu sleeps 4 hours daily and should have Mixed Veggies\n",
            "Ming Ming's duration is unknow thus should only have bamboo leaves\n"
          ]
        }
      ]
    },
    {
      "cell_type": "code",
      "source": [
        "# Task 3\n",
        "\n",
        "class Cat:\n",
        "  def __init__(self, color = \"White\", action = \"sitting\"):\n",
        "    self.color = color\n",
        "    self.action = action\n",
        "  def printCat(self):\n",
        "    print(f\"{self.color} cat is {self.action}\")\n",
        "  def changeColor(self, color):\n",
        "    self.color = color\n",
        "\n",
        "c1 = Cat()\n",
        "c2 = Cat(\"Black\")\n",
        "c3 = Cat(\"Brown\", \"jumping\")\n",
        "c4 = Cat(\"Red\", \"purring\")\n",
        "c1.printCat()\n",
        "c2.printCat()\n",
        "c3.printCat()\n",
        "c4.printCat()\n",
        "c1.changeColor(\"Blue\")\n",
        "c3.changeColor(\"Purple\")\n",
        "c1.printCat()\n",
        "c3.printCat()\n"
      ],
      "metadata": {
        "colab": {
          "base_uri": "https://localhost:8080/"
        },
        "id": "Tr6rQFWlJDAr",
        "outputId": "04eceebf-eb2c-4fb0-cc67-6b6e7bdbedce"
      },
      "execution_count": null,
      "outputs": [
        {
          "output_type": "stream",
          "name": "stdout",
          "text": [
            "White cat is sitting\n",
            "Black cat is sitting\n",
            "Brown cat is jumping\n",
            "Red cat is purring\n",
            "Blue cat is sitting\n",
            "Purple cat is jumping\n"
          ]
        }
      ]
    },
    {
      "cell_type": "code",
      "source": [
        "# Task 4\n",
        "\n",
        "class Student:\n",
        "  def __init__(self, name = \"default student\"):\n",
        "    self.name = name\n",
        "    print(f\"Hello {self.name}\")\n",
        "  def quizcalc(self, *quiz):\n",
        "    self.average = 0\n",
        "    for mark in quiz:\n",
        "      self.average += mark\n",
        "    self.average /= 3\n",
        "  def printdetail(self):\n",
        "    print(f\"Your average quiz score is {self.average}\")\n",
        "\n",
        "\n",
        "s1 = Student()\n",
        "s1.quizcalc(10)\n",
        "print('--------------------------------')\n",
        "s1.printdetail()\n",
        "s2 = Student('Harry')\n",
        "s2.quizcalc(10,8)\n",
        "print('--------------------------------')\n",
        "s2.printdetail()\n",
        "s3 = Student('Hermione')\n",
        "s3.quizcalc(10,9,10)\n",
        "print('--------------------------------')\n",
        "s3.printdetail() \n"
      ],
      "metadata": {
        "colab": {
          "base_uri": "https://localhost:8080/"
        },
        "id": "oEKZxWO0TV3I",
        "outputId": "963d1803-0ed6-48ce-9075-96061032aa7f"
      },
      "execution_count": null,
      "outputs": [
        {
          "output_type": "stream",
          "name": "stdout",
          "text": [
            "Hello default student\n",
            "--------------------------------\n",
            "Your average quiz score is 3.3333333333333335\n",
            "Hello Harry\n",
            "--------------------------------\n",
            "Your average quiz score is 6.0\n",
            "Hello Hermione\n",
            "--------------------------------\n",
            "Your average quiz score is 9.666666666666666\n"
          ]
        }
      ]
    },
    {
      "cell_type": "code",
      "source": [
        "# Task 5\n",
        "\n",
        "class Student:\n",
        "  def __init__(self, name, std_id, dept=\"CSE\"):\n",
        "    self.name = name\n",
        "    self.std_id = std_id\n",
        "    self.dept = dept\n",
        "\n",
        "  def dailyEffort(self, hours):\n",
        "    self.hours = hours\n",
        "    \n",
        "  def printDetails(self):\n",
        "    print(f\"Name: {self.name}\\nID: {self.std_id}\")\n",
        "    print(f\"Department: {self.dept}\")\n",
        "    print(f\"Daily Effort: {self.hours} hour(s)\")\n",
        "    if self.hours <= 2:\n",
        "      print(\"Suggestion: Should give more effort!\")\n",
        "    elif self.hours <= 4:\n",
        "      print(\"Suggestion: Keep up the good work!\")\n",
        "    else:\n",
        "      print(\"Suggestion: Excellent! Now motivate others.\")\n",
        "\n",
        "harry = Student('Harry Potter', 123)\n",
        "harry.dailyEffort(3)\n",
        "harry.printDetails()\t\n",
        "print('========================')\n",
        "john = Student(\"John Wick\", 456, \"BBA\")\n",
        "john.dailyEffort(2)\n",
        "john.printDetails()\n",
        "print('========================')\n",
        "naruto = Student(\"Naruto Uzumaki\", 777, \"Ninja\")\n",
        "naruto.dailyEffort(6)\n",
        "naruto.printDetails()\n"
      ],
      "metadata": {
        "colab": {
          "base_uri": "https://localhost:8080/"
        },
        "id": "my0DJBZTVY6G",
        "outputId": "0f46293c-8f00-4c14-f16c-63e7160cff63"
      },
      "execution_count": null,
      "outputs": [
        {
          "output_type": "stream",
          "name": "stdout",
          "text": [
            "Name: Harry Potter\n",
            "ID: 123\n",
            "Department: CSE\n",
            "Daily Effort: 3 hour(s)\n",
            "Suggestion: Keep up the good work!\n",
            "========================\n",
            "Name: John Wick\n",
            "ID: 456\n",
            "Department: BBA\n",
            "Daily Effort: 2 hour(s)\n",
            "Suggestion: Should give more effort!\n",
            "========================\n",
            "Name: Naruto Uzumaki\n",
            "ID: 777\n",
            "Department: Ninja\n",
            "Daily Effort: 6 hour(s)\n",
            "Excellent! Now motivate others.\n"
          ]
        }
      ]
    },
    {
      "cell_type": "code",
      "source": [
        "# Task 6\n",
        "\n",
        "class Patient:\n",
        "  def __init__(self, name, age):\n",
        "    self.name = name\n",
        "    self.age = age\n",
        "\n",
        "  def add_Symptom(self, *symptoms):\n",
        "    self.symptoms = symptoms\n",
        "  \n",
        "  def printPatientDetail(self):\n",
        "    print(f\"Name: {self.name}\")\n",
        "    print(f\"Age: {self.age}\")\n",
        "    print(\"Symptoms: \", end=\"\")\n",
        "    print(\", \".join(self.symptoms))\n",
        "\n",
        "p1 = Patient(\"Thomas\", 23)\n",
        "p1.add_Symptom(\"Headache\")\n",
        "p2 = Patient(\"Carol\", 20)\n",
        "p2.add_Symptom(\"Vomiting\", \"Coughing\")\n",
        "p3 = Patient(\"Mike\", 25)\n",
        "p3.add_Symptom(\"Fever\", \"Headache\", \"Coughing\")\n",
        "print(\"=========================\")\n",
        "p1.printPatientDetail()\n",
        "print(\"=========================\")\n",
        "p2.printPatientDetail()\n",
        "print(\"=========================\")\n",
        "p3.printPatientDetail()\n"
      ],
      "metadata": {
        "colab": {
          "base_uri": "https://localhost:8080/"
        },
        "id": "GwHgnSUgXlu4",
        "outputId": "92acf215-6c70-43f3-a502-ef79b43bade8"
      },
      "execution_count": null,
      "outputs": [
        {
          "output_type": "stream",
          "name": "stdout",
          "text": [
            "=========================\n",
            "Name: Thomas\n",
            "Age: 23\n",
            "Symptoms: Headache\n",
            "=========================\n",
            "Name: Carol\n",
            "Age: 20\n",
            "Symptoms: Vomiting, Coughing\n",
            "=========================\n",
            "Name: Mike\n",
            "Age: 25\n",
            "Symptoms: Fever, Headache, Coughing\n"
          ]
        }
      ]
    },
    {
      "cell_type": "code",
      "source": [
        "# Task 7\n",
        "\n",
        "class Match:\n",
        "  def __init__(self, matchup):\n",
        "    self.matchup = matchup.split(\"-\")\n",
        "    self.bowling = self.matchup[1]\n",
        "    self.batting = self.matchup[0]\n",
        "    self.runs = 0\n",
        "    self.wickets = 0\n",
        "    self.overs = 0\n",
        "    print(\"5..4..3..2..1.. Play !!!\")\n",
        "\n",
        "  def add_run(self, run):\n",
        "    self.runs += run\n",
        "  \n",
        "  def add_wicket(self, wicket):\n",
        "    self.wickets += wicket\n",
        "\n",
        "  def add_over(self, over):\n",
        "    if self.overs + over > 5:\n",
        "      print(f\"Warning! Cannot add {over} over/s (5 over match)\")\n",
        "    else:\n",
        "      self.overs += over\n",
        "\n",
        "  def print_scoreboard(self):\n",
        "    return f\"\"\"Batting Team: {self.batting}\n",
        "Bowling Team: {self.bowling}\n",
        "Total Runs: {self.runs} Wickets {self.wickets} Overs: {self.overs}\"\"\"\n",
        "\n",
        "match1 = Match(\"Rangpur Riders-Cumilla Victorians\")\n",
        "print(\"=========================\")\n",
        "match1.add_run(4)\n",
        "match1.add_run(6)\n",
        "match1.add_over(1)\n",
        "print(match1.print_scoreboard())\n",
        "print(\"=========================\")\n",
        "match1.add_over(5)\n",
        "print(\"=========================\")\n",
        "match1.add_wicket(1)\n",
        "print(match1.print_scoreboard())\n"
      ],
      "metadata": {
        "colab": {
          "base_uri": "https://localhost:8080/"
        },
        "id": "gIbpS63EZF72",
        "outputId": "67604c79-c1be-40b6-c0fb-b2a65b12a4d4"
      },
      "execution_count": null,
      "outputs": [
        {
          "output_type": "stream",
          "name": "stdout",
          "text": [
            "5..4..3..2..1.. Play !!!\n",
            "=========================\n",
            "Batting Team: Rangpur Riders\n",
            "Bowling Team: Cumilla Victorians\n",
            "Total Runs: 10 Wickets 0 Overs: 1\n",
            "=========================\n",
            "Warning! Cannot add 5 over/s (5 over match)\n",
            "=========================\n",
            "Batting Team: Rangpur Riders\n",
            "Bowling Team: Cumilla Victorians\n",
            "Total Runs: 10 Wickets 1 Overs: 1\n"
          ]
        }
      ]
    },
    {
      "cell_type": "code",
      "source": [
        "# Task 8\n",
        "\n",
        "class ParcelKoro:\n",
        "  def __init__(self, name = \"No name set\", weight = 0):\n",
        "    self.name = name\n",
        "    self.product_weight = weight\n",
        "    self.total_fee = 0\n",
        "  def calculateFee(self, location = None):\n",
        "    self.location = location\n",
        "    if self.location == None:\n",
        "      self.location_charge = 50\n",
        "    else:\n",
        "      self.location_charge = 100\n",
        "    if self.product_weight != 0:\n",
        "      self.total_fee = self.product_weight * 20 + self.location_charge\n",
        "    else:\n",
        "      self.total_fee = 0\n",
        "  def printDetails(self):\n",
        "    print(f\"Customer name: {self.name}\")\n",
        "    print(f\"Product weight: {self.product_weight}\")\n",
        "    print(f\"Total fee: {self.total_fee}\")\n",
        "\n",
        "\n",
        "print(\"**********************\")\n",
        "p1 = ParcelKoro()\n",
        "p1.calculateFee()\n",
        "p1.printDetails()\n",
        "print(\"**********************\")\n",
        "p2 = ParcelKoro('Bob The Builder')\n",
        "p2.calculateFee()\n",
        "p2.printDetails()\n",
        "print(\"----------------------------\")\n",
        "p2.product_weight = 15\n",
        "p2.calculateFee()\n",
        "p2.printDetails()\n",
        "print(\"**********************\")\n",
        "p3 = ParcelKoro('Dora The Explorer', 10)\n",
        "p3.calculateFee('Dhanmondi')\n",
        "p3.printDetails()"
      ],
      "metadata": {
        "id": "fNy3U9eMa7f1",
        "colab": {
          "base_uri": "https://localhost:8080/"
        },
        "outputId": "498af7b2-fe53-49a2-d756-58e4a3252a5c"
      },
      "execution_count": null,
      "outputs": [
        {
          "output_type": "stream",
          "name": "stdout",
          "text": [
            "**********************\n",
            "Customer name: No name set\n",
            "Product weight: 0\n",
            "Total fee: 0\n",
            "**********************\n",
            "Customer name: Bob The Builder\n",
            "Product weight: 0\n",
            "Total fee: 0\n",
            "----------------------------\n",
            "Customer name: Bob The Builder\n",
            "Product weight: 15\n",
            "Total fee: 350\n",
            "**********************\n",
            "Customer name: Dora The Explorer\n",
            "Product weight: 10\n",
            "Total fee: 300\n"
          ]
        }
      ]
    },
    {
      "cell_type": "code",
      "source": [
        "# Task 9\n",
        "\n",
        "class Batsman:\n",
        "  def __init__(self, *info):\n",
        "    if len(info) == 3:\n",
        "      self.name = info[0]\n",
        "      self.runs = info[1]\n",
        "      self.balls = info[2]\n",
        "    else:\n",
        "      self.name = \"New Batsman\"\n",
        "      self.runs = info[0]\n",
        "      self.balls = info[1]\n",
        "  def setName(self, name):\n",
        "    self.name = name\n",
        "  def printCareerStatistics(self):\n",
        "    print(f\"Name: {self.name}\")\n",
        "    print(f\"Runs Scored: {self.runs} , Balls Faced: {self.balls}\")\n",
        "  def battingStrikeRate(self):\n",
        "    return self.runs/self.balls*100\n",
        "\n",
        "b1 = Batsman(6101, 7380)\n",
        "b1.printCareerStatistics()\n",
        "print(\"============================\")\n",
        "b2 = Batsman(\"Liton Das\", 678, 773)\n",
        "b2.printCareerStatistics()\n",
        "print(\"----------------------------\")\n",
        "print(b2.battingStrikeRate())\n",
        "print(\"============================\")\n",
        "b1.setName(\"Shakib Al Hasan\")\n",
        "b1.printCareerStatistics()\n",
        "print(\"----------------------------\")\n",
        "print(b1.battingStrikeRate())"
      ],
      "metadata": {
        "colab": {
          "base_uri": "https://localhost:8080/"
        },
        "id": "ablLhqvbnleN",
        "outputId": "817fe77e-a0c5-4fa7-c5d1-b2120958eb97"
      },
      "execution_count": null,
      "outputs": [
        {
          "output_type": "stream",
          "name": "stdout",
          "text": [
            "Name: New Batsman\n",
            "Runs Scored: 6101 , Balls Faced: 7380\n",
            "============================\n",
            "Name: Liton Das\n",
            "Runs Scored: 678 , Balls Faced: 773\n",
            "----------------------------\n",
            "87.71021992238033\n",
            "============================\n",
            "Name: Shakib Al Hasan\n",
            "Runs Scored: 6101 , Balls Faced: 7380\n",
            "----------------------------\n",
            "82.66937669376694\n"
          ]
        }
      ]
    },
    {
      "cell_type": "code",
      "source": [
        "# Task 10\n",
        "\n",
        "class EPL_Team:\n",
        "  def __init__(self, name, song = \"No Slogan\"):\n",
        "    self.name = name\n",
        "    self.song = song\n",
        "    self.title = 0\n",
        "  def increaseTitle(self):\n",
        "    self.title += 1\n",
        "  def changeSong(self, song):\n",
        "    self.song = song\n",
        "  def showClubInfo(self):\n",
        "    return f\"\"\"Name: {self.name}\n",
        "Song: {self.song}\n",
        "Total No of title: {self.title}\"\"\"\n",
        "\n",
        "manu = EPL_Team('Manchester United', 'Glory Glory Man United')\n",
        "chelsea = EPL_Team('Chelsea')\n",
        "print('===================')\n",
        "print(manu.showClubInfo())\n",
        "print('##################')\n",
        "manu.increaseTitle()\n",
        "print(manu.showClubInfo())\n",
        "print('===================')\n",
        "print(chelsea.showClubInfo())\n",
        "chelsea.changeSong('Keep the blue flag flying high')\n",
        "print(chelsea.showClubInfo())"
      ],
      "metadata": {
        "colab": {
          "base_uri": "https://localhost:8080/"
        },
        "id": "z1fV2XRApIDt",
        "outputId": "cbe789e6-af10-45b5-9420-5acfa105c462"
      },
      "execution_count": null,
      "outputs": [
        {
          "output_type": "stream",
          "name": "stdout",
          "text": [
            "===================\n",
            "Name: Manchester United\n",
            "Song: Glory Glory Man United\n",
            "Total No of title: 0\n",
            "##################\n",
            "Name: Manchester United\n",
            "Song: Glory Glory Man United\n",
            "Total No of title: 1\n",
            "===================\n",
            "Name: Chelsea\n",
            "Song: No Slogan\n",
            "Total No of title: 0\n",
            "Name: Chelsea\n",
            "Song: Keep the blue flag flying high\n",
            "Total No of title: 0\n"
          ]
        }
      ]
    },
    {
      "cell_type": "code",
      "source": [
        "# Task 11\n",
        "\n",
        "class Author:\n",
        "  def __init__(self, name = None, *book_list):\n",
        "    if name == None:\n",
        "      self.name = \"Default\"\n",
        "      self.book_list = list(book_list)\n",
        "    else:\n",
        "      self.name = name\n",
        "      self.book_list = list(book_list)\n",
        "  def addBooks(self, *books):\n",
        "    self.book_list += list(books)\n",
        "  def changeName(self, name):\n",
        "    self.name = name\n",
        "  def printDetails(self):\n",
        "    print(f\"Author name: {self.name}\")\n",
        "    print(\"--------\")\n",
        "    print(\"List of Books:\")\n",
        "    for book in self.book_list:\n",
        "      print(book)\n",
        "\n",
        "\n",
        "auth1 = Author('Humayun Ahmed')\n",
        "auth1.addBooks('Deyal', 'Megher Opor Bari')\n",
        "auth1.printDetails()\n",
        "print(\"===================\")\n",
        "auth2 = Author()\n",
        "print(auth2.name)\n",
        "auth2.changeName('Mario Puzo')\n",
        "auth2.addBooks('The Godfather', 'Omerta', 'The Sicilian')\n",
        "print(\"===================\")\n",
        "auth2.printDetails()\n",
        "print(\"===================\")\n",
        "auth3 = Author('Paolo Coelho', 'The Alchemist', 'The Fifth Mountain')\n",
        "auth3.printDetails()"
      ],
      "metadata": {
        "colab": {
          "base_uri": "https://localhost:8080/"
        },
        "id": "NFh0zgJyqC1N",
        "outputId": "4b51e485-50e6-4dda-d099-7db6d83d691e"
      },
      "execution_count": null,
      "outputs": [
        {
          "output_type": "stream",
          "name": "stdout",
          "text": [
            "Author name: Humayun Ahmed\n",
            "--------\n",
            "List of Books:\n",
            "Deyal\n",
            "Megher Opor Bari\n",
            "===================\n",
            "Default\n",
            "===================\n",
            "Author name: Mario Puzo\n",
            "--------\n",
            "List of Books:\n",
            "The Godfather\n",
            "Omerta\n",
            "The Sicilian\n",
            "===================\n",
            "Author name: Paolo Coelho\n",
            "--------\n",
            "List of Books:\n",
            "The Alchemist\n",
            "The Fifth Mountain\n"
          ]
        }
      ]
    },
    {
      "cell_type": "code",
      "source": [
        "# Task 12\n",
        "\n",
        "class TaxiLagbe:\n",
        "  def __init__(self, taxi_num, area):\n",
        "    self.taxi_num, self.area = taxi_num, area\n",
        "    self.passenger_num = self.fare = 0\n",
        "    self.passenger_list = []\n",
        "    \n",
        "  \n",
        "  def addPassenger(self, *info):\n",
        "    for passenger in info:\n",
        "      passenger = passenger.split(\"_\")\n",
        "      if len(self.passenger_list) == 4:\n",
        "        print(\"Taxi Full! No more passengers can be added.\")\n",
        "      else:\n",
        "        print(f\"Dear {passenger[0]}! Welcome to TaxiLagbe.\")\n",
        "        self.passenger_list.append(passenger[0])\n",
        "        self.fare += int(passenger[1])\n",
        "  def printDetails(self):\n",
        "    print(f\"Trip info for Taxi number: {self.taxi_num}\")\n",
        "    print(f\"This taxi can cover only {self.area} area.\")\n",
        "    print(f\"Total passengers: {len(self.passenger_list)}\")\n",
        "    print(f\"Passenger lists:\")\n",
        "    print(\", \".join(self.passenger_list))\n",
        "    print(f\"Total collected fare: {self.fare} Taka\")\n",
        "\n",
        "taxi1 = TaxiLagbe('1010-01', 'Dhaka')\n",
        "print('-------------------------------')\n",
        "taxi1.addPassenger('Walker_100', 'Wood_200')\n",
        "taxi1.addPassenger('Matt_100')\n",
        "taxi1.addPassenger('Wilson_105')\n",
        "print('-------------------------------')\n",
        "taxi1.printDetails()\n",
        "print('-------------------------------')\n",
        "taxi1.addPassenger('Karen_200')\n",
        "print('-------------------------------')\n",
        "taxi1.printDetails()\n",
        "print('-------------------------------')\n",
        "taxi2 = TaxiLagbe('1010-02', 'Khulna')\n",
        "taxi2.addPassenger('Ronald_115')\n",
        "taxi2.addPassenger('Parker_215')\n",
        "print('-------------------------------')\n",
        "taxi2.printDetails()\n"
      ],
      "metadata": {
        "colab": {
          "base_uri": "https://localhost:8080/"
        },
        "id": "uFXfNDh7OhWF",
        "outputId": "64b578c2-9528-4ce4-9b25-29cb0f7bdd4f"
      },
      "execution_count": null,
      "outputs": [
        {
          "output_type": "stream",
          "name": "stdout",
          "text": [
            "-------------------------------\n",
            "Dear Walker! Welcome to TaxiLagbe.\n",
            "Dear Wood! Welcome to TaxiLagbe.\n",
            "Dear Matt! Welcome to TaxiLagbe.\n",
            "Dear Wilson! Welcome to TaxiLagbe.\n",
            "-------------------------------\n",
            "Trip info for Taxi number: 1010-01\n",
            "This taxi can cover only Dhaka area.\n",
            "Total passengers: 4\n",
            "Passenger lists:\n",
            "Walker, Wood, Matt, Wilson\n",
            "Total collected fare: 505 Taka\n",
            "-------------------------------\n",
            "Taxi Full! No more passengers can be added.\n",
            "-------------------------------\n",
            "Trip info for Taxi number: 1010-01\n",
            "This taxi can cover only Dhaka area.\n",
            "Total passengers: 4\n",
            "Passenger lists:\n",
            "Walker, Wood, Matt, Wilson\n",
            "Total collected fare: 505 Taka\n",
            "-------------------------------\n",
            "Dear Ronald! Welcome to TaxiLagbe.\n",
            "Dear Parker! Welcome to TaxiLagbe.\n",
            "-------------------------------\n",
            "Trip info for Taxi number: 1010-02\n",
            "This taxi can cover only Khulna area.\n",
            "Total passengers: 2\n",
            "Passenger lists:\n",
            "Ronald, Parker\n",
            "Total collected fare: 330 Taka\n"
          ]
        }
      ]
    },
    {
      "cell_type": "code",
      "source": [
        "# Task 13\n",
        "\n",
        "class Account:\n",
        "  def __init__(self, name = \"Default Account\", balance = 0.0):\n",
        "    self.name = name\n",
        "    self.balance = balance\n",
        "  def details(self):\n",
        "    return f\"{self.name}\\n{self.balance}\"\n",
        "  def withdraw(self, amount):\n",
        "    self.amount = amount\n",
        "    if self.balance - self.amount < 3071:\n",
        "      print(\"Sorry, Withdraw unsuccessful! The account \" +\n",
        "      \"balance after deducting withdraw amount is equal to or less than minimum.\")\n",
        "    else:\n",
        "      print(f\"Withdraw successful! New balance is {self.balance - self.amount}\")\n",
        "a1 = Account()\n",
        "print(a1.details())\n",
        "print(\"------------------------\")\n",
        "a1.name = \"Oliver\"\n",
        "a1.balance = 10000.0\n",
        "print(a1.details())\n",
        "print(\"------------------------\")\n",
        "a2 = Account(\"Liam\")\n",
        "print(a2.details())\n",
        "print(\"------------------------\")\n",
        "a3 = Account(\"Noah\",400)\n",
        "print(a3.details())\n",
        "print(\"------------------------\")\n",
        "a1.withdraw(6930)\n",
        "print(\"------------------------\")\n",
        "a2.withdraw(600)\n",
        "print(\"------------------------\")\n",
        "a1.withdraw(6929)"
      ],
      "metadata": {
        "colab": {
          "base_uri": "https://localhost:8080/"
        },
        "id": "z2zv_tjLtt21",
        "outputId": "8d06f2df-c334-40d4-8da6-fb7629904fe7"
      },
      "execution_count": null,
      "outputs": [
        {
          "output_type": "stream",
          "name": "stdout",
          "text": [
            "Default Account\n",
            "0.0\n",
            "------------------------\n",
            "Oliver\n",
            "10000.0\n",
            "------------------------\n",
            "Liam\n",
            "0.0\n",
            "------------------------\n",
            "Noah\n",
            "400\n",
            "------------------------\n",
            "Sorry, Withdraw unsuccessful! The account balance after deducting withdraw amount is equal to or less than minimum.\n",
            "------------------------\n",
            "Sorry, Withdraw unsuccessful! The account balance after deducting withdraw amount is equal to or less than minimum.\n",
            "------------------------\n",
            "Withdraw successful! New balance is 3071.0\n"
          ]
        }
      ]
    },
    {
      "cell_type": "code",
      "source": [
        "# Task 14\n",
        "\n",
        "class StudentDatabase:\n",
        "  def __init__(self, name, std_id):\n",
        "    self.name = name\n",
        "    self.std_id = std_id\n",
        "    self.grades = {}\n",
        "\n",
        "  def calculateGPA(self, course_list, semester):\n",
        "    self.course_list = course_list\n",
        "    self.semester = semester\n",
        "    self.courses = []\n",
        "    self.gpa = 0\n",
        "    for course in course_list:\n",
        "      course = course.split(\": \")\n",
        "      course_name = course[0]\n",
        "      course_gpa = float(course[1])\n",
        "      self.courses.append(course_name)\n",
        "      self.gpa += course_gpa * 3\n",
        "    self.grades.update({self.semester:\n",
        "    {tuple(self.courses):\n",
        "    round(self.gpa/(len(self.courses)*3), 2)}})\n",
        "\n",
        "  def printDetails(self):\n",
        "    print(f\"Name: {self.name}\\nID: {self.std_id}\")\n",
        "    for sem in self.grades:\n",
        "      print(f\"Courses taken in {sem}\")\n",
        "      for course, cgpa in self.grades[sem].items():\n",
        "        for item in course:\n",
        "          print(item)\n",
        "        print(f\"GPA: {cgpa}\")\n",
        "\n",
        "s1 = StudentDatabase('Pietro', '10101222')\n",
        "s1.calculateGPA(['CSE230: 4.0', 'CSE220: 4.0', 'MAT110: 4.0'], 'Summer2020')\n",
        "s1.calculateGPA(['CSE250: 3.7', 'CSE330: 4.0'], 'Summer2021')\n",
        "print(f'Grades for {s1.name}\\n{s1.grades}')\n",
        "print('------------------------------------------------------')\n",
        "s1.printDetails()\n",
        "s2 = StudentDatabase('Wanda', '10103332')\n",
        "s2.calculateGPA(['CSE111: 3.7', 'CSE260: 3.7', 'ENG101: 4.0'], 'Summer2022')\n",
        "print('------------------------------------------------------')\n",
        "print(f'Grades for {s2.name}\\n{s2.grades}')\n",
        "print('------------------------------------------------------')\n",
        "s2.printDetails()\n"
      ],
      "metadata": {
        "colab": {
          "base_uri": "https://localhost:8080/"
        },
        "id": "Sjp4x7GMJVwt",
        "outputId": "282680ed-e8c0-4bf6-b4af-8ea174a5888f"
      },
      "execution_count": null,
      "outputs": [
        {
          "output_type": "stream",
          "name": "stdout",
          "text": [
            "Grades for Pietro\n",
            "{'Summer2020': {('CSE230', 'CSE220', 'MAT110'): 4.0}, 'Summer2021': {('CSE250', 'CSE330'): 3.85}}\n",
            "------------------------------------------------------\n",
            "Name: Pietro\n",
            "ID: 10101222\n",
            "Courses taken in Summer2020\n",
            "CSE230\n",
            "CSE220\n",
            "MAT110\n",
            "GPA: 4.0\n",
            "Courses taken in Summer2021\n",
            "CSE250\n",
            "CSE330\n",
            "GPA: 3.85\n",
            "------------------------------------------------------\n",
            "Grades for Wanda\n",
            "{'Summer2022': {('CSE111', 'CSE260', 'ENG101'): 3.8}}\n",
            "------------------------------------------------------\n",
            "Name: Wanda\n",
            "ID: 10103332\n",
            "Courses taken in Summer2022\n",
            "CSE111\n",
            "CSE260\n",
            "ENG101\n",
            "GPA: 3.8\n"
          ]
        }
      ]
    },
    {
      "cell_type": "code",
      "source": [
        "# Task 15\n",
        "\n",
        "class FinalT6A:\n",
        "    def __init__(self, x, p):\n",
        "        self.temp, self.sum, self.y = 4, 0, 1\n",
        "        self.temp += 1\n",
        "        self.y = self.temp - p\n",
        "        self.sum = self.temp + x\n",
        "        print(x, self.y, self.sum)\n",
        "    def methodA(self):\n",
        "        x = 0\n",
        "        y = 0\n",
        "        y = y + self.y\n",
        "        x = self.y + 2 + self.temp\n",
        "        self.sum = x + y + self.methodB(self.temp, y)\n",
        "        print(x, y, self.sum)\n",
        "    def methodB(self, temp, n):\n",
        "        x = 0\n",
        "        temp += 1\n",
        "        self.y = self.y + temp\n",
        "        x = x + 3 + n\n",
        "        self.sum = self.sum + x + self.y\n",
        "        print(x, self.y, self.sum)\n",
        "        return self.sum\n",
        "q1 = FinalT6A(2,1)\n",
        "q1.methodA()\n",
        "q1.methodA()\n",
        "\n"
      ],
      "metadata": {
        "colab": {
          "base_uri": "https://localhost:8080/"
        },
        "id": "Pz8YzREfeV8V",
        "outputId": "bc25e60f-5f6a-4fd1-875e-8553428f7855"
      },
      "execution_count": null,
      "outputs": [
        {
          "output_type": "stream",
          "name": "stdout",
          "text": [
            "2 4 7\n",
            "7 10 24\n",
            "11 4 39\n",
            "13 16 68\n",
            "17 10 95\n"
          ]
        }
      ]
    },
    {
      "cell_type": "code",
      "source": [
        "class Quiz3A:\n",
        "    def __init__(self, k = None):\n",
        "        self.temp, self.sum, self.y = 4, 0, 0\n",
        "        if k != None:\n",
        "            self.temp += 1\n",
        "            self.temp = self.temp\n",
        "            self.sum = self.temp + k\n",
        "            self.y = self.sum - 1\n",
        "        else:\n",
        "            self.y = self.temp - 1\n",
        "            self.sum = self.temp + 1\n",
        "            self.temp += 2    \n",
        "    def methodB(self, m, n):\n",
        "        x = 0\n",
        "        self.temp += 1\n",
        "        self.y = self.y + m + (self.temp)\n",
        "        x = x + 2 + n\n",
        "        self.sum = self.sum + x + self.y\n",
        "        print(x, self.y, self.sum)\n",
        "        return self.sum\n",
        "\n",
        "a1 = Quiz3A()\n",
        "a1.methodB(1,2)\n",
        "a2 = Quiz3A(3)\n",
        "a2.methodB(2,4)\n",
        "a1.methodB(2,1)\n",
        "a2.methodB(1,3)\n"
      ],
      "metadata": {
        "colab": {
          "base_uri": "https://localhost:8080/"
        },
        "id": "a6nTAuGcoGm_",
        "outputId": "85739783-0730-44a1-c9c8-cd772873815e"
      },
      "execution_count": null,
      "outputs": [
        {
          "output_type": "stream",
          "name": "stdout",
          "text": [
            "4 11 20\n",
            "6 15 29\n",
            "3 21 44\n",
            "5 23 57\n"
          ]
        },
        {
          "output_type": "execute_result",
          "data": {
            "text/plain": [
              "57"
            ]
          },
          "metadata": {},
          "execution_count": 45
        }
      ]
    },
    {
      "cell_type": "code",
      "source": [
        "class Test5:\n",
        "  def __init__(self):\n",
        "      self.sum = 0\n",
        "      self.y = 0\n",
        "  def methodA(self):   \n",
        "      x=y=k=0\n",
        "      msg = [5]  \n",
        "      while (k < 2):\n",
        "          y += msg[0]     \n",
        "          x = y + self.methodB(msg, k)\n",
        "          self.sum = x + y + msg[0]\n",
        "          print(x ,\" \" , y, \" \" , self.sum)\n",
        "          k+=1 \n",
        "  def methodB(self, mg2, mg1):\n",
        "        x = 0\n",
        "        self.y += mg2[0]\n",
        "        x = x + 3 + mg1\n",
        "        self.sum += x + self.y\n",
        "        mg2[0] = self.y + mg1\n",
        "        mg1 += x + 2\n",
        "        print(x , \" \" ,self.y, \" \" , self.sum)\n",
        "        return mg1\n",
        "\n",
        "t1 = Test5()\n",
        "t1.methodA()\n",
        "t1.methodA()\n",
        "t1.methodA()\n"
      ],
      "metadata": {
        "colab": {
          "base_uri": "https://localhost:8080/"
        },
        "id": "5e0UZ2nqt8BL",
        "outputId": "320fe6f0-4241-4013-e01e-b5b34f06e84e"
      },
      "execution_count": null,
      "outputs": [
        {
          "output_type": "stream",
          "name": "stdout",
          "text": [
            "3   5   8\n",
            "10   5   20\n",
            "4   10   34\n",
            "17   10   38\n",
            "3   15   56\n",
            "10   5   30\n",
            "4   30   64\n",
            "27   20   78\n",
            "3   35   116\n",
            "10   5   50\n",
            "4   70   124\n",
            "47   40   158\n"
          ]
        }
      ]
    },
    {
      "cell_type": "code",
      "source": [
        "class Test4:\n",
        "    def __init__(self):\n",
        "        self.sum, self.y = 0, 0\n",
        "    def methodA(self):\n",
        "        x, y = 0, 0\n",
        "        msg = [0]\n",
        "        msg[0] = 5\n",
        "        y = y + self.methodB(msg[0])\n",
        "        x = y + self.methodB(msg, msg[0])\n",
        "        self.sum = x + y + msg[0]\n",
        "        print(x, y, self.sum)\n",
        "    def methodB(self, *args):\n",
        "        if len(args) == 1:\n",
        "            mg1 = args[0]\n",
        "            x, y = 0, 0\n",
        "            y = y + mg1\n",
        "            x = x + 33 + mg1\n",
        "            self.sum = self.sum + x + y\n",
        "            self.y = mg1 + x + 2\n",
        "            print(x, y, self.sum)\n",
        "            return y\n",
        "        else:\n",
        "            mg2, mg1 = args\n",
        "            x = 0\n",
        "            self.y = self.y + mg2[0]\n",
        "            x = x + 33 + mg1\n",
        "            self.sum = self.sum + x + self.y\n",
        "            mg2[0] = self.y + mg1\n",
        "            mg1 = mg1 + x + 2\n",
        "            print(x, self.y, self.sum)\n",
        "            return self.sum\n",
        "\n",
        "\n",
        "t3 = Test4()\n",
        "t3.methodA()\n",
        "t3.methodA()\n",
        "t3.methodA()\n",
        "t3.methodA()\n"
      ],
      "metadata": {
        "colab": {
          "base_uri": "https://localhost:8080/"
        },
        "id": "NMvq-zSj4HqT",
        "outputId": "3b5c15e3-efb6-4c34-cad7-88c0aeb7f193"
      },
      "execution_count": null,
      "outputs": [
        {
          "output_type": "stream",
          "name": "stdout",
          "text": [
            "38 5 43\n",
            "38 50 131\n",
            "136 5 196\n",
            "38 5 239\n",
            "38 50 327\n",
            "332 5 392\n",
            "38 5 435\n",
            "38 50 523\n",
            "528 5 588\n",
            "38 5 631\n",
            "38 50 719\n",
            "724 5 784\n"
          ]
        }
      ]
    },
    {
      "cell_type": "code",
      "source": [
        "# Task 19\n",
        "\n",
        "class msgClass:\n",
        "    def __init__(self):\n",
        "        self.content = 0 \n",
        "class Q5:\n",
        "    def __init__(self):\n",
        "        self.sum = 1\n",
        "        self.x = 2\n",
        "        self.y = 3 \n",
        "    def methodA(self):\n",
        "        x, y = 1, 1\n",
        "        msg = []\n",
        "        myMsg = msgClass()\n",
        "        myMsg.content = self.x\n",
        "        msg.append(myMsg)\n",
        "        msg[0].content = self.y + myMsg.content\n",
        "        self.y = self.y + self.methodB(msg[0])\n",
        "        y = self.methodB(msg[0]) + self.y\n",
        "        x = y + self.methodB(msg[0], msg)\n",
        "        self.sum = x + y + msg[0].content\n",
        "        print(x,\" \", y,\" \", self.sum)    \n",
        "    def methodB(self, mg1, mg2 = None):\n",
        "        if mg2 == None:\n",
        "            x, y = 5, 6\n",
        "            y = self.sum + mg1.content\n",
        "            self.y = y + mg1.content\n",
        "            x = self.x + 7 +mg1.content\n",
        "            self.sum = self.sum + x + y\n",
        "            self.x = mg1.content + x +8\n",
        "            print(x, \" \", y,\" \", self.sum)\n",
        "            return y\n",
        "        else:\n",
        "            x = 1\n",
        "            self.y += mg2[0].content\n",
        "            mg2[0].content = self.y + mg1.content\n",
        "            x = x + 4 + mg1.content\n",
        "            self.sum += x + self.y\n",
        "            mg1.content = self.sum - mg2[0].content\n",
        "            print(self.x, \" \",self.y,\" \", self.sum)\n",
        "            return self.sum\n",
        "\n",
        "q = Q5()\n",
        "q.methodA()"
      ],
      "metadata": {
        "colab": {
          "base_uri": "https://localhost:8080/"
        },
        "id": "TDHCbjsmDOYA",
        "outputId": "897b88c5-4566-4620-af74-32a47ab1fff5"
      },
      "execution_count": null,
      "outputs": [
        {
          "output_type": "stream",
          "name": "stdout",
          "text": [
            "14   6   21\n",
            "39   26   86\n",
            "52   36   168\n",
            "225   57   409\n"
          ]
        }
      ]
    },
    {
      "cell_type": "code",
      "source": [
        "# Task 20\n",
        "\n",
        "class Hospital:\n",
        "  def __init__(self, hosp_name):\n",
        "    self.hosp_name = hosp_name\n",
        "    self.doc_list = {}\n",
        "    self.pat_list = {}\n",
        "  def addDoctor(self, doctor):\n",
        "    self.doctor = doctor\n",
        "    self.doc_list[self.doctor.doc_id] = [self.doctor.doc_name, self.doctor.doc_spec]\n",
        "  def addPatient(self, patient):\n",
        "    self.patient = patient\n",
        "    self.pat_list[self.patient.pat_id] = [self.patient.pat_name, self.patient.pat_age, self.patient.pat_phone]\n",
        "  def getDoctorByID(self, doc_id):\n",
        "    self.search = doc_id\n",
        "    return f\"\"\"Doctor's ID: {self.search}\n",
        "Name: {self.doc_list[self.search][0]}\n",
        "Speciality: {self.doc_list[self.search][1]}\"\"\"\n",
        "  def getPatientByID(self, pat_id):\n",
        "    self.search = pat_id\n",
        "    return f\"\"\"Patient's ID: {self.search}\n",
        "Name: {self.pat_list[self.search][0]}\n",
        "Age: {self.pat_list[self.search][1]}\n",
        "Phone no.: {self.pat_list[self.search][2]}\"\"\"\n",
        "  def allDoctors(self):\n",
        "    print(\"All Doctors:\")\n",
        "    print(f\"Number of doctors: {len(self.doc_list)}\")\n",
        "    print(f\"{self.doc_list}\")\n",
        "  def allPatients(self):\n",
        "    print(\"All Patients:\")\n",
        "    print(f\"Number of patients: {len(self.pat_list)}\")\n",
        "    print(f\"{self.pat_list}\")\n",
        "class Patient:\n",
        "  def __init__(self, pat_id, pat_type, name, age, phone):\n",
        "    self.pat_id = pat_id\n",
        "    self.pat_type = pat_type\n",
        "    self.pat_name = name\n",
        "    self.pat_age = age\n",
        "    self.pat_phone = phone\n",
        "\n",
        "class Doctor:\n",
        "  def __init__(self, doc_id, doc_type, name, speciality):\n",
        "    self.doc_id = doc_id\n",
        "    self.doc_type = doc_type\n",
        "    self.doc_name = name\n",
        "    self.doc_spec = speciality\n",
        "\n",
        "\n",
        "h = Hospital(\"Evercare\")\n",
        "d1 = Doctor(\"1d\",\"Doctor\", \"Samar Kumar\", \"Neurologist\")\n",
        "h.addDoctor(d1)\n",
        "print(\"=================================\")\n",
        "print(h.getDoctorByID(\"1d\"))\n",
        "print(\"=================================\")\n",
        "p1 = Patient(\"1p\",\"Patient\", \"Kashem Ahmed\", 35, 12345)\n",
        "h.addPatient(p1)\n",
        "print(\"=================================\")\n",
        "print(h.getPatientByID(\"1p\"))\n",
        "print(\"=================================\")\n",
        "p2 = Patient (\"2p\",\"Patient\", \"Tanina Haque\", 26, 33456)\n",
        "h.addPatient(p2)\n",
        "print(\"=================================\")\n",
        "print(h.getPatientByID(\"2p\"))\n",
        "print(\"=================================\")\n",
        "h.allDoctors()\n",
        "h.allPatients()"
      ],
      "metadata": {
        "colab": {
          "base_uri": "https://localhost:8080/"
        },
        "id": "EKinIDCHoxFY",
        "outputId": "0a1e2905-0539-45e7-beb8-5abe0cc23533"
      },
      "execution_count": null,
      "outputs": [
        {
          "output_type": "stream",
          "name": "stdout",
          "text": [
            "=================================\n",
            "Doctor's ID: 1d\n",
            "Name: Samar Kumar\n",
            "Speciality: Neurologist\n",
            "=================================\n",
            "=================================\n",
            "Patient's ID: 1p\n",
            "Name: Kashem Ahmed\n",
            "Age: 35\n",
            "Phone no.: 12345\n",
            "=================================\n",
            "=================================\n",
            "Patient's ID: 2p\n",
            "Name: Tanina Haque\n",
            "Age: 26\n",
            "Phone no.: 33456\n",
            "=================================\n",
            "All Doctors:\n",
            "Number of doctors: 1\n",
            "{'1d': ['Samar Kumar', 'Neurologist']}\n",
            "All Patients:\n",
            "Number of patients: 2\n",
            "{'1p': ['Kashem Ahmed', 35, 12345], '2p': ['Tanina Haque', 26, 33456]}\n"
          ]
        }
      ]
    },
    {
      "cell_type": "code",
      "source": [],
      "metadata": {
        "id": "70Bd9Y4StTW-"
      },
      "execution_count": null,
      "outputs": []
    }
  ]
}
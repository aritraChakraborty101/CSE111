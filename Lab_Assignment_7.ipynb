{
  "nbformat": 4,
  "nbformat_minor": 0,
  "metadata": {
    "colab": {
      "provenance": [],
      "include_colab_link": true
    },
    "kernelspec": {
      "name": "python3",
      "display_name": "Python 3"
    },
    "language_info": {
      "name": "python"
    }
  },
  "cells": [
    {
      "cell_type": "markdown",
      "metadata": {
        "id": "view-in-github",
        "colab_type": "text"
      },
      "source": [
        "<a href=\"https://colab.research.google.com/github/aritraChakraborty101/CSE111/blob/main/Lab_Assignment_7.ipynb\" target=\"_parent\"><img src=\"https://colab.research.google.com/assets/colab-badge.svg\" alt=\"Open In Colab\"/></a>"
      ]
    },
    {
      "cell_type": "code",
      "execution_count": null,
      "metadata": {
        "colab": {
          "base_uri": "https://localhost:8080/"
        },
        "id": "ltMBZ_nnPm0R",
        "outputId": "dafdc2c4-6c29-488e-ccc3-ac46f9238ae3"
      },
      "outputs": [
        {
          "output_type": "stream",
          "name": "stdout",
          "text": [
            "Name: default Department: BBA\n",
            "Name: Humpty Dumpty Department: BBA\n",
            "Name: Little Bo Peep Department: BBA\n"
          ]
        }
      ],
      "source": [
        "# Task 1\n",
        "\n",
        "class Student:\n",
        "  def __init__(self, name='Just a student', dept='nothing'):\n",
        "    self.__name = name\n",
        "    self.__department = dept\n",
        "  def set_department(self, dept):\n",
        "    self.__department = dept\n",
        "  def get_name(self):\n",
        "    return self.__name\n",
        "  def set_name(self,name):\n",
        "    self.__name = name\n",
        "  def __str__(self):\n",
        "    return 'Name: '+self.__name+' Department: '+self.__department\n",
        "  def __str__(self):\n",
        "    return 'Name: '+self.get_name()+' Department: '+self.__department\n",
        "\n",
        "class BBA_Student(Student):\n",
        "  def __init__(self, name = \"default\", dept = \"BBA\"):\n",
        "    super().set_name(name)\n",
        "    super().set_department(dept)\n",
        "\n",
        "print(BBA_Student())\n",
        "print(BBA_Student('Humpty Dumpty'))\n",
        "print(BBA_Student('Little Bo Peep'))"
      ]
    },
    {
      "cell_type": "code",
      "source": [
        "class Vehicle:\n",
        "  def __init__(self):\n",
        "    self.x = 0\n",
        "    self.y = 0\n",
        "  def moveUp(self):\n",
        "    self.y+=1\n",
        "  def moveDown(self):\n",
        "    self.y-=1\n",
        "  def moveRight(self):\n",
        "    self.x+=1\n",
        "  def moveLeft(self):\n",
        "    self.x-=1\n",
        "  def __str__(self):\n",
        "    return '('+str(self.x)+' , '+str(self.y)+')'\n",
        "\n",
        "class Vehicle2010(Vehicle):\n",
        "  def __init__(self):\n",
        "    super().__init__()\n",
        "  \n",
        "  def moveLowerLeft(self):\n",
        "    self.moveDown()\n",
        "    self.moveLeft()\n",
        "  \n",
        "  def moveUpperRight(self):\n",
        "    self.moveUp()\n",
        "    self.moveRight()\n",
        "  \n",
        "  def moveLowerRight(self):\n",
        "    self.moveDown()\n",
        "    self.moveRight()\n",
        "  \n",
        "  def moveUpperLeft(self):\n",
        "    self.moveUp()\n",
        "    self.moveLeft()\n",
        "\n",
        "  def equals(self, other):\n",
        "    if self.x == other.x and self.y == other.y:\n",
        "      return True\n",
        "    else:\n",
        "      return False\n",
        "\n",
        "print('Part 1')\n",
        "print('------')\n",
        "car = Vehicle()\n",
        "print(car)\n",
        "car.moveUp()\n",
        "print(car)\n",
        "car.moveLeft()\n",
        "print(car)\n",
        "car.moveDown()\n",
        "print(car)\n",
        "car.moveRight()\n",
        "print(car)\n",
        "print('------')\n",
        "print('Part 2')\n",
        "print('------')\n",
        "car1 = Vehicle2010()\n",
        "print(car1)\n",
        "car1.moveLowerLeft()\n",
        "print(car1)\n",
        "car2 = Vehicle2010()\n",
        "car2.moveLeft()\n",
        "print(car1.equals(car2))\n",
        "car2.moveDown()\n",
        "print(car1.equals(car2))"
      ],
      "metadata": {
        "colab": {
          "base_uri": "https://localhost:8080/"
        },
        "id": "3SiD1qhLShzS",
        "outputId": "9d12a5f8-492d-44ad-bc6a-b7b994afb627"
      },
      "execution_count": null,
      "outputs": [
        {
          "output_type": "stream",
          "name": "stdout",
          "text": [
            "Part 1\n",
            "------\n",
            "(0 , 0)\n",
            "(0 , 1)\n",
            "(-1 , 1)\n",
            "(-1 , 0)\n",
            "(0 , 0)\n",
            "------\n",
            "Part 2\n",
            "------\n",
            "(0 , 0)\n",
            "(-1 , -1)\n",
            "False\n",
            "True\n"
          ]
        }
      ]
    },
    {
      "cell_type": "code",
      "source": [
        "# Task 3\n",
        "\n",
        "class Tournament:\n",
        "  def __init__(self,name='Default'):\n",
        "    self.__name = name\n",
        "  def set_name(self,name):\n",
        "    self.__name = name\n",
        "  def get_name(self):\n",
        "    return self.__name\n",
        "\n",
        "class Cricket_Tournament(Tournament):\n",
        "  def __init__(self, name = \"Default\", teams = 0, types = \"No type\"):\n",
        "    super().set_name(name)\n",
        "    self.teams = teams\n",
        "    self.types = types\n",
        "  def detail(self):\n",
        "    return f\"\"\"Cricket Tournament Name: {self.get_name()}\n",
        "Number of Teams: {self.teams}\n",
        "Type: {self.types}\"\"\"\n",
        "\n",
        "class Tennis_Tournament(Tournament):\n",
        "  def __init__(self, name, players):\n",
        "    super().set_name(name)\n",
        "    self.players = players\n",
        "  \n",
        "  def detail(self):\n",
        "    return f\"\"\"Tennis Tournament Name: {self.get_name()}\n",
        "Number of Players: {self.players}\"\"\"\n",
        "\n",
        "ct1 = Cricket_Tournament()\n",
        "print(ct1.detail())\n",
        "print(\"-----------------------\")\n",
        "ct2 = Cricket_Tournament(\"IPL\",10,\"t20\")\n",
        "print(ct2.detail())\n",
        "print(\"-----------------------\")\n",
        "tt = Tennis_Tournament(\"Roland Garros\",128)\n",
        "print(tt.detail())\n"
      ],
      "metadata": {
        "colab": {
          "base_uri": "https://localhost:8080/"
        },
        "id": "GloI_I9JTl2B",
        "outputId": "29872be9-fa51-4cae-a82e-092c02e8ec0e"
      },
      "execution_count": null,
      "outputs": [
        {
          "output_type": "stream",
          "name": "stdout",
          "text": [
            "Cricket Tournament Name: Default\n",
            "Number of Teams: 0\n",
            "Type: No type\n",
            "-----------------------\n",
            "Cricket Tournament Name: IPL\n",
            "Number of Teams: 10\n",
            "Type: t20\n",
            "-----------------------\n",
            "Tennis Tournament Name: Roland Garros\n",
            "Number of Players: 128\n"
          ]
        }
      ]
    },
    {
      "cell_type": "code",
      "source": [
        "# Task 4\n",
        "\n",
        "class Product:\n",
        "  def __init__(self,id, title, price):\n",
        "    self.__id = id\n",
        "    self.__title = title\n",
        "    self.__price = price\n",
        "  def get_id_title_price(self):\n",
        "    return \"ID: \"+str(self.__id)+\" Title: \"+self.__title+        \" Price: \"+str(self.__price)\n",
        "\n",
        "class Book(Product):\n",
        "  def __init__(self, id, title, price, isbn, publisher):\n",
        "    super().__init__(id, title, price)\n",
        "    self.isbn = isbn\n",
        "    self.publisher = publisher\n",
        "  \n",
        "  def printDetail(self):\n",
        "    return super().get_id_title_price() + f\" ISBN: {self.isbn} Publisher: {self.publisher}\"\n",
        "\n",
        "class CD(Product):\n",
        "  def __init__(self, id, title, price, band, duration, genre):\n",
        "    super().__init__(id, title, price)\n",
        "    self.duration = duration\n",
        "    self.band = band\n",
        "    self.genre = genre\n",
        "\n",
        "  def printDetail(self):\n",
        "    return super().get_id_title_price() + \\\n",
        "f\" Band: {self.band} Duration: {self.duration} minutes\" +\\\n",
        "f\" Genre: {self.genre}\"\n",
        "\n",
        "book = Book(1,\"The Alchemist\",500,\"97806\",\"HarperCollins\")\n",
        "print(book.printDetail())\n",
        "print(\"-----------------------\")\n",
        "cd = CD(2,\"Shotto\",300,\"Warfaze\",50,\"Hard Rock\")\n",
        "print(cd.printDetail())\n"
      ],
      "metadata": {
        "colab": {
          "base_uri": "https://localhost:8080/"
        },
        "id": "9z9-dum_YUWU",
        "outputId": "f4147780-b740-4d00-a15a-52d7c500c5b2"
      },
      "execution_count": null,
      "outputs": [
        {
          "output_type": "stream",
          "name": "stdout",
          "text": [
            "ID: 1 Title: The Alchemist Price: 500 ISBN: 97806 Publisher: HarperCollins\n",
            "-----------------------\n",
            "ID: 2 Title: Shotto Price: 300 Band: Warfaze Duration: 50 minutes Genre: Hard Rock\n"
          ]
        }
      ]
    },
    {
      "cell_type": "code",
      "source": [
        "# Task 5\n",
        "\n",
        "class Animal:   \n",
        "  def __init__(self,sound):\n",
        "    self.__sound = sound\n",
        "        \n",
        "  def makeSound(self):\n",
        "    return self.__sound\n",
        "\n",
        "class Printer:   \n",
        "  def printSound(self, a):\n",
        "    print(a.makeSound())\n",
        "\n",
        "class Dog(Animal):\n",
        "  def __init__(self, sound):\n",
        "    super().__init__(sound)\n",
        "\n",
        "class Cat(Animal):\n",
        "  def __init__(self, sound):\n",
        "    super().__init__(sound)\n",
        "\n",
        "d1 = Dog('bark')\n",
        "c1 = Cat('meow')\n",
        "a1 = Animal('Animal does not make sound')\n",
        "pr = Printer()\n",
        "pr.printSound(a1)\n",
        "pr.printSound(c1)\n",
        "pr.printSound(d1)"
      ],
      "metadata": {
        "colab": {
          "base_uri": "https://localhost:8080/"
        },
        "id": "TJqf12BucxVe",
        "outputId": "106e98f3-74b6-457f-f6a2-f29ee18ff42f"
      },
      "execution_count": null,
      "outputs": [
        {
          "output_type": "stream",
          "name": "stdout",
          "text": [
            "Animal does not make sound\n",
            "meow\n",
            "bark\n"
          ]
        }
      ]
    },
    {
      "cell_type": "code",
      "source": [
        "# Task 6\n",
        "\n",
        "class Shape:\n",
        "  def __init__(self, name='Default', height=0, base=0):\n",
        "    self.area = 0\n",
        "    self.name = name\n",
        "    self.height = height\n",
        "    self.base = base\n",
        "\n",
        "  def get_height_base(self):\n",
        "    return \"Height: \"+str(self.height)+\",Base: \"+str(self.base)\n",
        "\n",
        "class triangle(Shape):\n",
        "  def __init__(self, name='Default', height = 0, base = 0):\n",
        "    super().__init__(name, height, base)\n",
        "  \n",
        "  def calcArea(self):\n",
        "    self.area = 0.5 * self.height * self.base\n",
        "  \n",
        "  def printDetail(self):\n",
        "    return f\"Shape name: {self.name} \" + \\\n",
        "super().get_height_base() + f\"\\nArea: {self.area}\"\n",
        "\n",
        "class trapezoid(Shape):\n",
        "  def __init__(self, name, height, base, side_a):\n",
        "    super().__init__(name, height, base)\n",
        "    self.side_a = side_a\n",
        "  \n",
        "  def calcArea(self):\n",
        "    self.area = ((self.base + self.side_a) / 2) * self.height\n",
        "\n",
        "  def printDetail(self):\n",
        "    return f\"Shape name: {self.name} \" + self.get_height_base() + f\", Side_A: {self.side_a}\\nArea: {self.area}\"\n",
        "\n",
        "tri_default = triangle()\n",
        "tri_default.calcArea()\n",
        "print(tri_default.printDetail())\n",
        "print('--------------------------')\n",
        "tri = triangle('Triangle', 10, 5)\n",
        "tri.calcArea()\n",
        "print(tri.printDetail())\n",
        "print('---------------------------')\n",
        "trap = trapezoid('Trapezoid', 10, 6, 4)\n",
        "trap.calcArea()\n",
        "print(trap.printDetail())\n"
      ],
      "metadata": {
        "colab": {
          "base_uri": "https://localhost:8080/"
        },
        "id": "3mBEvkkldphR",
        "outputId": "62e9be05-004d-4f6b-d219-53ec67efd613"
      },
      "execution_count": null,
      "outputs": [
        {
          "output_type": "stream",
          "name": "stdout",
          "text": [
            "Shape name: Default Height: 0,Base: 0\n",
            "Area: 0.0\n",
            "--------------------------\n",
            "Shape name: Triangle Height: 10,Base: 5\n",
            "Area: 25.0\n",
            "---------------------------\n",
            "Shape name: Trapezoid Height: 10,Base: 6, Side_A: 4\n",
            "Area: 50.0\n"
          ]
        }
      ]
    },
    {
      "cell_type": "code",
      "source": [
        "# Task 7\n",
        "\n",
        "class Football:\n",
        "  def __init__(self, team_name, name, role):\n",
        "    self.__team = team_name\n",
        "    self.__name = name\n",
        "    self.role = role\n",
        "    self.earning_per_match = 0\n",
        "\n",
        "  def get_name_team(self):\n",
        "    return 'Name: '+self.__name+', Team Name: ' +self.__team\n",
        "\n",
        "class Player(Football):\n",
        "  def __init__(self, team_name, name, role, goal, played):\n",
        "    super().__init__(team_name, name, role)\n",
        "    self.goal = goal\n",
        "    self.played = played\n",
        "    self.earning_per_match = self.goal * 1000 + self.played * 10\n",
        "\n",
        "  def calculate_ratio(self):\n",
        "    self.ratio = self.goal/self.played\n",
        "  \n",
        "  def print_details(self):\n",
        "    print(self.get_name_team()+f\"\\nTeam Role: {self.role}\")\n",
        "    print(f\"Total Goal: {self.goal}, Total Played: {self.played}\")\n",
        "    print(f\"Goal Ratio: {self.ratio}\")\n",
        "    print(f\"Match Earning: {self.earning_per_match}K\")\n",
        "\n",
        "class Manager(Football):\n",
        "  def __init__(self, team_name, name, role, win):\n",
        "    super().__init__(team_name, name, role)\n",
        "    self.win = win\n",
        "    self.earning_per_match = self.win * 1000\n",
        "  \n",
        "  def print_details(self):\n",
        "    print(self.get_name_team() + f\"\\nTeam Role: {self.role}\")\n",
        "    print(f\"Total Win: {self.win}\\nMatch Earning: {self.earning_per_match}K\")\n",
        "\n",
        "player_one = Player('Juventus', 'Ronaldo', 'Striker', 25, 32)\n",
        "player_one.calculate_ratio()\n",
        "player_one.print_details()\n",
        "print('------------------------------------------')\n",
        "manager_one = Manager('Real Madrid', 'Zidane', 'Manager', 25)\n",
        "manager_one.print_details()\n"
      ],
      "metadata": {
        "colab": {
          "base_uri": "https://localhost:8080/"
        },
        "id": "XweEsQPLgSrT",
        "outputId": "376fadcb-f102-42f9-dc65-752db1bf01d4"
      },
      "execution_count": null,
      "outputs": [
        {
          "output_type": "stream",
          "name": "stdout",
          "text": [
            "Name: Ronaldo, Team Name: Juventus\n",
            "Team Role: Striker\n",
            "Total Goal: 25, Total Played: 32\n",
            "Goal Ratio: 0.78125\n",
            "Match Earning: 25320K\n",
            "------------------------------------------\n",
            "Name: Zidane, Team Name: Real Madrid\n",
            "Team Role: Manager\n",
            "Total Win: 25\n",
            "Match Earning: 25000K\n"
          ]
        }
      ]
    }
  ]
}
{
  "nbformat": 4,
  "nbformat_minor": 0,
  "metadata": {
    "colab": {
      "provenance": []
    },
    "kernelspec": {
      "name": "python3",
      "display_name": "Python 3"
    },
    "language_info": {
      "name": "python"
    }
  },
  "cells": [
    {
      "cell_type": "code",
      "execution_count": null,
      "metadata": {
        "colab": {
          "base_uri": "https://localhost:8080/"
        },
        "id": "AXNAMFuWHGEV",
        "outputId": "5c14e426-00be-46a3-bf61-4deeb2659d69"
      },
      "outputs": [
        {
          "output_type": "stream",
          "name": "stdout",
          "text": [
            "Quiz 1 (out of 10): 10\n",
            "Quiz 2 (out of 10): 10\n",
            "Lab (out of 30): 30\n",
            "Mid (out of 20): 20\n",
            "Final (out of 30): 30\n",
            "Total marks: 100\n"
          ]
        }
      ],
      "source": [
        "# Task 1\n",
        "\n",
        "class Marks:\n",
        "  def __init__(self, mark):\n",
        "    self.mark = mark\n",
        "  def __add__(self, other):\n",
        "    return type(self) (self.mark + other.mark)\n",
        "\n",
        "Q1 = Marks(int(input(\"Quiz 1 (out of 10): \")))\n",
        "Q2 = Marks(int(input(\"Quiz 2 (out of 10): \")))\n",
        "Lab = Marks(int(input(\"Lab (out of 30): \")))\n",
        "Mid = Marks(int(input(\"Mid (out of 20): \")))\n",
        "Final = Marks(int(input(\"Final (out of 30): \")))\n",
        "total = Q1 + Q2 + Lab + Mid + Final\n",
        "print(\"Total marks: {}\".format(total.mark))\n"
      ]
    },
    {
      "cell_type": "code",
      "source": [
        "# Task 2\n",
        "\n",
        "class Teacher:\n",
        "  def __init__(self, name, dept):\n",
        "    self.__name = name\n",
        "    self.__dept = dept\n",
        "    self.__course_list = []\n",
        "  \n",
        "  def addCourse(self, course):\n",
        "    self.__course_list.append(course.title)\n",
        "  \n",
        "  def printDetail(self):\n",
        "    print(\"====================================\")\n",
        "    print(f\"Name: {self.__name}\")\n",
        "    print(f\"Department: {self.__dept}\")\n",
        "    print(\"List of Courses\")\n",
        "    print(\"====================================\")\n",
        "    for course in self.__course_list:\n",
        "      print(course)\n",
        "    print(\"====================================\")\n",
        "\n",
        "class Course:\n",
        "  def __init__(self, title):\n",
        "    self.title = title\n",
        "  \n",
        "\n",
        "t1 = Teacher(\"Saad Abdullah\", \"CSE\")\n",
        "t2 = Teacher(\"Mumit Khan\", \"CSE\")\n",
        "t3 = Teacher(\"Sadia Kazi\", \"CSE\")                          \n",
        "c1 = Course(\"CSE 110 Programming Language I\")                           \n",
        "c2 = Course(\"CSE 111 Programming Language-II\")                           \n",
        "c3 = Course(\"CSE 220 Data Structures\")                           \n",
        "c4 = Course(\"CSE 221 Algorithms\")                           \n",
        "c5 = Course(\"CCSE 230 Discrete Mathematics\")                           \n",
        "c6 = Course(\"CSE 310 Object Oriented Programming\")                           \n",
        "c7 = Course(\"CSE 320 Data Communications\")                          \n",
        "c8 = Course(\"CSE 340 Computer Architecture\") \n",
        "t1.addCourse(c1)\n",
        "t1.addCourse(c2)\n",
        "t2.addCourse(c3)\n",
        "t2.addCourse(c4)\n",
        "t2.addCourse(c5)\n",
        "t3.addCourse(c6)\n",
        "t3.addCourse(c7)\n",
        "t3.addCourse(c8)\n",
        "t1.printDetail()\n",
        "t2.printDetail()\n",
        "t3.printDetail()\n"
      ],
      "metadata": {
        "colab": {
          "base_uri": "https://localhost:8080/"
        },
        "id": "Cd7wUzSwJR5u",
        "outputId": "2e9255da-ebf3-4055-ab65-c03411a881ad"
      },
      "execution_count": null,
      "outputs": [
        {
          "output_type": "stream",
          "name": "stdout",
          "text": [
            "====================================\n",
            "Name: Saad Abdullah\n",
            "Department: CSE\n",
            "List of Courses\n",
            "====================================\n",
            "CSE 110 Programming Language I\n",
            "CSE 111 Programming Language-II\n",
            "====================================\n",
            "====================================\n",
            "Name: Mumit Khan\n",
            "Department: CSE\n",
            "List of Courses\n",
            "====================================\n",
            "CSE 220 Data Structures\n",
            "CSE 221 Algorithms\n",
            "CCSE 230 Discrete Mathematics\n",
            "====================================\n",
            "====================================\n",
            "Name: Sadia Kazi\n",
            "Department: CSE\n",
            "List of Courses\n",
            "====================================\n",
            "CSE 310 Object Oriented Programming\n",
            "CSE 320 Data Communications\n",
            "CSE 340 Computer Architecture\n",
            "====================================\n"
          ]
        }
      ]
    },
    {
      "cell_type": "code",
      "source": [
        "# Task 3\n",
        "\n",
        "class Team:\n",
        "  def __init__(self, name = None):\n",
        "    self.__name = name\n",
        "    self.__player_list = []\n",
        "  \n",
        "  def setName(self, name):\n",
        "    self.__name = name\n",
        "\n",
        "  def addPlayer(self, player):\n",
        "    self.__player_list.append(player.name)\n",
        "\n",
        "  def printDetail(self):\n",
        "    print(\"=====================\")\n",
        "    print(f\"Team: {self.__name}\")\n",
        "    print(f\"List of Players:\\n{self.__player_list}\")\n",
        "    print(\"=====================\")\n",
        "    \n",
        "class Player:\n",
        "  def __init__(self, name):\n",
        "    self.name = name\n",
        "\n",
        "\n",
        "\n",
        "b = Team()\n",
        "b.setName('Bangladesh')\n",
        "mashrafi = Player(\"Mashrafi\")\n",
        "b.addPlayer(mashrafi)\n",
        "tamim = Player(\"Tamim\")\n",
        "b.addPlayer(tamim)\n",
        "b.printDetail()\n",
        "a = Team(\"Australia\")\n",
        "ponting = Player(\"Ponting\")\n",
        "a.addPlayer(ponting)\n",
        "lee = Player(\"Lee\")\n",
        "a.addPlayer(lee)\n",
        "a.printDetail()\n"
      ],
      "metadata": {
        "colab": {
          "base_uri": "https://localhost:8080/"
        },
        "id": "ZLNU6nWuMnWx",
        "outputId": "633e908d-bc1a-4f0b-c5bd-5752c4f66d81"
      },
      "execution_count": null,
      "outputs": [
        {
          "output_type": "stream",
          "name": "stdout",
          "text": [
            "=====================\n",
            "Team: Bangladesh\n",
            "List of Players:\n",
            "['Mashrafi', 'Tamim']\n",
            "=====================\n",
            "=====================\n",
            "Team: Australia\n",
            "List of Players:\n",
            "['Ponting', 'Lee']\n",
            "=====================\n"
          ]
        }
      ]
    },
    {
      "cell_type": "code",
      "source": [
        "# Task 4\n",
        "\n",
        "class Color:\n",
        "  def __init__(self, color):\n",
        "    self.clr = color\n",
        "    self.orange = {'red', 'yellow'}\n",
        "    self.green = {'blue', 'yellow'}\n",
        "    self.violet = {'red', 'blue'}\n",
        "\n",
        "  def __add__(self, other):\n",
        "    self.new = {self.clr, other.clr}\n",
        "    if self.new == self.orange:\n",
        "      return type(self)('Orange')\n",
        "    elif self.new == self.green:\n",
        "      return type(self)('Green')\n",
        "    else:\n",
        "      return type(self)('Violet')\n",
        "\n",
        "C1 = Color(input(\"First Color: \").lower())\n",
        "C2 = Color(input(\"Second Color: \").lower())\n",
        "C3 = C1 + C2\n",
        "print(\"Color formed:\", C3.clr)\n"
      ],
      "metadata": {
        "colab": {
          "base_uri": "https://localhost:8080/"
        },
        "id": "Su52eC3QN1-G",
        "outputId": "253d6a78-9540-4e52-de7a-96d03234e467"
      },
      "execution_count": null,
      "outputs": [
        {
          "output_type": "stream",
          "name": "stdout",
          "text": [
            "First Color: red\n",
            "Second Color: blue\n",
            "Color formed: Violet\n"
          ]
        }
      ]
    },
    {
      "cell_type": "code",
      "source": [
        "# Task 5\n",
        "\n",
        "import math\n",
        "\n",
        "class Circle:\n",
        "  def __init__(self, radius):\n",
        "    self.setRadius(radius)\n",
        "  \n",
        "  def setRadius(self, radius):\n",
        "    self.__radius = radius\n",
        "  \n",
        "  def getRadius(self):\n",
        "    return self.__radius\n",
        "\n",
        "  def area(self):\n",
        "    return math.pi * self.__radius**2\n",
        "\n",
        "  def __add__(self, other):\n",
        "    return type(self)(self.__radius + other.__radius)\n",
        "\n",
        "c1 = Circle(4)\n",
        "print(\"First circle radius:\" , c1.getRadius())\n",
        "print(\"First circle area:\" ,c1.area())\n",
        " \n",
        "c2 = Circle(5)\n",
        "print(\"Second circle radius:\" ,c2.getRadius())\n",
        "print(\"Second circle area:\" ,c2.area())\n",
        " \n",
        "c3 = c1 + c2 \n",
        "print(\"Third circle radius:\" ,c3.getRadius())\n",
        "print(\"Third circle area:\" ,c3.area())\n"
      ],
      "metadata": {
        "colab": {
          "base_uri": "https://localhost:8080/"
        },
        "id": "eK4Z4lx3Tgqh",
        "outputId": "aa0552c8-e9d0-4c79-df01-d8c8cdd25971"
      },
      "execution_count": null,
      "outputs": [
        {
          "output_type": "stream",
          "name": "stdout",
          "text": [
            "First circle radius: 4\n",
            "First circle area: 50.26548245743669\n",
            "Second circle radius: 5\n",
            "Second circle area: 78.53981633974483\n",
            "Third circle radius: 9\n",
            "Third circle area: 254.46900494077323\n"
          ]
        }
      ]
    },
    {
      "cell_type": "code",
      "source": [
        "# Task 6\n",
        "\n",
        "class Triangle:\n",
        "  def __init__(self, base, height):\n",
        "    self.setBase(base)\n",
        "    self.setHeight(height)\n",
        "\n",
        "  def setBase(self, base):\n",
        "    self.__base = base\n",
        "  \n",
        "  def setHeight(self, height):\n",
        "    self.__height = height\n",
        "\n",
        "  def getBase(self):\n",
        "    return self.__base\n",
        "  \n",
        "  def getHeight(self):\n",
        "    return self.__height\n",
        "\n",
        "  def area(self):\n",
        "    return (0.5 * self.getBase() * self.getHeight())\n",
        "    \n",
        "  def __sub__(self, other):\n",
        "    new_base = self.__base - other.__base\n",
        "    new_height = self.__height - other.__height\n",
        "    return type(self) (new_base, new_height)\n",
        "\n",
        "t1 = Triangle(10, 5)\n",
        "print(\"First Triangle Base:\" , t1.getBase())\n",
        "print(\"First Triangle Height:\" , t1.getHeight())\n",
        "print(\"First Triangle area:\" ,t1.area())\n",
        " \n",
        "t2 = Triangle(5, 3)\n",
        "print(\"Second Triangle Base:\" , t2.getBase())\n",
        "print(\"Second Triangle Height:\" , t2.getHeight())\n",
        "print(\"Second Triangle area:\" ,t2.area())\n",
        " \n",
        "t3 = t1 - t2 \n",
        "print(\"Third Triangle Base:\" , t3.getBase())\n",
        "print(\"Third Triangle Height:\" , t3.getHeight())\n",
        "print(\"Third Triangle area:\" ,t3.area()) \n"
      ],
      "metadata": {
        "colab": {
          "base_uri": "https://localhost:8080/"
        },
        "id": "V5hd8r2QUohD",
        "outputId": "5f6a36ee-77f3-4076-ae84-0e27cc743ac1"
      },
      "execution_count": null,
      "outputs": [
        {
          "output_type": "stream",
          "name": "stdout",
          "text": [
            "First Triangle Base: 10\n",
            "First Triangle Height: 5\n",
            "First Triangle area: 25.0\n",
            "Second Triangle Base: 5\n",
            "Second Triangle Height: 3\n",
            "Second Triangle area: 7.5\n",
            "Third Triangle Base: 5\n",
            "Third Triangle Height: 2\n",
            "Third Triangle area: 5.0\n"
          ]
        }
      ]
    },
    {
      "cell_type": "code",
      "source": [
        "# Task 7\n",
        "\n",
        "class Dolls:\n",
        "  def __init__(self, name, price):\n",
        "    self.name = name\n",
        "    self.price = price\n",
        "  \n",
        "  def detail(self):\n",
        "    return f\"Doll: {self.name}\\nTotal Price: {self.price} taka\"\n",
        "\n",
        "  def __add__(self, other):\n",
        "    return type(self)(self.name+\" \"+other.name, self.price+other.price)\n",
        "\n",
        "  def __gt__(self, other):\n",
        "    if self.price > other.price:\n",
        "      return True\n",
        "    else:\n",
        "      return False\n",
        "\n",
        "obj_1 = Dolls(\"Tweety\", 2500)\n",
        "print(obj_1.detail())\n",
        "if obj_1 > obj_1:\n",
        "    print(\"Congratulations! You get the Tweety as a gift!\")\n",
        "else:\n",
        "    print(\"Thank you!\")\n",
        "\n",
        "print(\"=========================\")\n",
        "obj_2 = Dolls(\"Daffy Duck\", 1800) \n",
        "print(obj_2.detail())\n",
        "if obj_2 > obj_1:\n",
        "    print(\"Congratulations! You get the Tweety as a gift!\")\n",
        "else:\n",
        "    print(\"Thank you!\")\n",
        "\n",
        "print(\"=========================\")\n",
        "obj_3 = Dolls(\"Bugs Bunny\", 3000)\n",
        "print(obj_3.detail())\n",
        "if obj_3 > obj_1:\n",
        "    print(\"Congratulations! You get the Tweety as a gift!\")\n",
        "else:\n",
        "    print(\"Thank you!\")\n",
        "\n",
        "print(\"=========================\")\n",
        "obj_4 = Dolls(\"Porky Pig\", 1500)\n",
        "print(obj_4.detail())\n",
        "if obj_4 > obj_1:\n",
        "    print(\"Congratulations! You get the Tweety as a gift!\")\n",
        "else:\n",
        "    print(\"Thank you!\")\n",
        "\n",
        "print(\"=========================\")\n",
        "obj_5 = obj_2 + obj_3\n",
        "print(obj_5.detail())\n",
        "if obj_5 > obj_1:\n",
        "    print(\"Congratulations! You get the Tweety as a gift!\")\n",
        "else:\n",
        "    print(\"Thank you!\")\n"
      ],
      "metadata": {
        "colab": {
          "base_uri": "https://localhost:8080/"
        },
        "id": "AeZWR2CDWPrG",
        "outputId": "842c27e1-b1bf-4eb2-a234-d74832e5cfe9"
      },
      "execution_count": null,
      "outputs": [
        {
          "output_type": "stream",
          "name": "stdout",
          "text": [
            "Doll: Tweety\n",
            "Total Price: 2500 taka\n",
            "Thank you!\n",
            "=========================\n",
            "Doll: Daffy Duck\n",
            "Total Price: 1800 taka\n",
            "Thank you!\n",
            "=========================\n",
            "Doll: Bugs Bunny\n",
            "Total Price: 3000 taka\n",
            "Congratulations! You get the Tweety as a gift!\n",
            "=========================\n",
            "Doll: Porky Pig\n",
            "Total Price: 1500 taka\n",
            "Thank you!\n",
            "=========================\n",
            "Doll: Daffy Duck Bugs Bunny\n",
            "Total Price: 4800 taka\n",
            "Congratulations! You get the Tweety as a gift!\n"
          ]
        }
      ]
    },
    {
      "cell_type": "code",
      "source": [
        "# Task 8\n",
        "\n",
        "class Coordinates:\n",
        "  def __init__(self, x, y):\n",
        "    self.x = x\n",
        "    self.y = y\n",
        "\n",
        "  def __sub__(self, other):\n",
        "    return type(self)(self.x - other.x, self.y - other.y)\n",
        "\n",
        "  def __mul__(self, other):\n",
        "    return type(self)(self.x * other.x, self.y * other.y)\n",
        "\n",
        "  def __eq__(self, other):\n",
        "    if self.x == other.x and self.y == other.y:\n",
        "      return \"The calculated coordinates are the same.\"\n",
        "    else:\n",
        "      return \"The calculated coordinates are NOT the same\"\n",
        "\n",
        "  def detail(self):\n",
        "    return (self.x, self.y)\n",
        "p1 = Coordinates(int(input()),int(input()))\n",
        "p2 = Coordinates(int(input()),int(input()))\n",
        "\n",
        "p4 = p1 - p2 \n",
        "print(p4.detail())\n",
        "\n",
        "p5 = p1 * p2\n",
        "print(p5.detail())\n",
        "\n",
        "point_check = (p4 == p5)\n",
        "print(point_check)\n"
      ],
      "metadata": {
        "colab": {
          "base_uri": "https://localhost:8080/"
        },
        "id": "CUi3dH4nY14k",
        "outputId": "0105a238-5e18-4051-ea5b-8f0e6e946006"
      },
      "execution_count": null,
      "outputs": [
        {
          "output_type": "stream",
          "name": "stdout",
          "text": [
            "0\n",
            "0\n",
            "0\n",
            "0\n",
            "(0, 0)\n",
            "(0, 0)\n",
            "The calculated coordinates are the same.\n"
          ]
        }
      ]
    }
  ]
}
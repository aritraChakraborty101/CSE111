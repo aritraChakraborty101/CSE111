{
  "nbformat": 4,
  "nbformat_minor": 0,
  "metadata": {
    "colab": {
      "provenance": []
    },
    "kernelspec": {
      "name": "python3",
      "display_name": "Python 3"
    },
    "language_info": {
      "name": "python"
    }
  },
  "cells": [
    {
      "cell_type": "code",
      "execution_count": null,
      "metadata": {
        "id": "DBuqoKf-M1Kd",
        "colab": {
          "base_uri": "https://localhost:8080/"
        },
        "outputId": "eaa4c86a-25af-4c07-cda7-275bede7c458"
      },
      "outputs": [
        {
          "output_type": "stream",
          "name": "stdout",
          "text": [
            "5\n",
            "*\n",
            "10\n",
            "Let's Calculate!\n",
            "Value 1: 5\n",
            "Operator: *\n",
            "Value 2: 10\n",
            "Result: 50\n"
          ]
        }
      ],
      "source": [
        "class Calculator:\n",
        "    def __init__(self):\n",
        "        print(\"Let's Calculate!\")\n",
        "\n",
        "    def add(self, val_1, val_2):\n",
        "        self.val_1 = val_1\n",
        "        self.val_2 = val_2\n",
        "        return self.val_1 + self.val_2\n",
        "    def subtract(self, val_1, val_2):\n",
        "        self.val_1 = val_1\n",
        "        self.val_2 = val_2\n",
        "        return self.val_1 - self.val_2\n",
        "    def multiply(self, val_1, val_2):\n",
        "        self.val_1 = val_1\n",
        "        self.val_2 = val_2\n",
        "        return self.val_1 * self.val_2\n",
        "    def divide(self, val_1, val_2):\n",
        "        self.val_1 = val_1\n",
        "        self.val_2 = val_2\n",
        "        return self.val_1 / self.val_2\n",
        "\n",
        "val_1 = int(input())\n",
        "oper = input()\n",
        "val_2 = int(input())\n",
        "calc = Calculator()\n",
        "print(f\"Value 1: {val_1}\")\n",
        "print(f\"Operator: {oper}\")\n",
        "print(f\"Value 2: {val_2}\")\n",
        "print(\"Result: \", end=\"\")\n",
        "if oper == \"+\":\n",
        "    print(calc.add(val_1, val_2))\n",
        "elif oper == \"-\":\n",
        "    print(calc.subtract(val_1, val_2))\n",
        "elif oper == \"*\":\n",
        "    print(calc.multiply(val_1, val_2))\n",
        "elif oper == \"/\":\n",
        "    print(calc.divide(val_1, val_2))"
      ]
    },
    {
      "cell_type": "code",
      "source": [
        "# Task 2\n",
        "\n",
        "class Course:\n",
        "    def __init__(self, code, faculty, num):\n",
        "        self.code = code\n",
        "        self.faculty = faculty\n",
        "        self.num = num\n",
        "    def detail(self):\n",
        "        print(f\"{self.code} - {self.faculty} - {self.num}\")\n",
        "\n",
        "c1 = Course(\"CSE110\", \"TBA\", 8)\n",
        "c1.detail()\n",
        "print(\"===============\")\n",
        "c2 = Course(\"CSE111\", \"TBA\", 9)\n",
        "c2.detail()"
      ],
      "metadata": {
        "colab": {
          "base_uri": "https://localhost:8080/"
        },
        "id": "fbbJ0awh4GCM",
        "outputId": "a5477cf8-8a70-4c58-dbad-eeca6907d85a"
      },
      "execution_count": null,
      "outputs": [
        {
          "output_type": "stream",
          "name": "stdout",
          "text": [
            "CSE110 - TBA - 8\n",
            "===============\n",
            "CSE111 - TBA - 9\n"
          ]
        }
      ]
    },
    {
      "cell_type": "code",
      "source": [
        "# Task 3\n",
        "\n",
        "class Patient:\n",
        "    def __init__(self, name, age, weight, height):\n",
        "        self.name = name\n",
        "        self.age = age\n",
        "        self.weight = weight\n",
        "        self.height = height\n",
        "        self.bmi = (weight)/(height/100)**2\n",
        "    def printDetails(self):\n",
        "        print(f\"Name: {self.name}\")\n",
        "        print(f\"Age: {self.age}\")\n",
        "        print(f\"Weight: {self.weight} kg\")\n",
        "        print(f\"Height: {self.height} cm\")\n",
        "        print(f\"BMI: {self.bmi}\")\n",
        "\n",
        "p1 = Patient(\"A\", 55, 63.0, 158.0)\n",
        "p1.printDetails()\n",
        "print(\"====================\")\n",
        "p2 = Patient(\"B\", 53, 61.0, 149.0)\n",
        "p2.printDetails()"
      ],
      "metadata": {
        "colab": {
          "base_uri": "https://localhost:8080/"
        },
        "id": "kk75k5A64voo",
        "outputId": "532c6ab7-bf56-4e6f-93eb-6e13d5f1ae69"
      },
      "execution_count": null,
      "outputs": [
        {
          "output_type": "stream",
          "name": "stdout",
          "text": [
            "Name: A\n",
            "Age: 55\n",
            "Weight: 63.0 kg\n",
            "Height: 158.0 cm\n",
            "BMI: 25.236340330075304\n",
            "====================\n",
            "Name: B\n",
            "Age: 53\n",
            "Weight: 61.0 kg\n",
            "Height: 149.0 cm\n",
            "BMI: 27.476239809017613\n"
          ]
        }
      ]
    },
    {
      "cell_type": "code",
      "source": [
        "# Task 4\n",
        "\n",
        "class Vehicle:\n",
        "    def __init__(self):\n",
        "        self.position = [0, 0]\n",
        "    def moveUp(self):\n",
        "        self.position[1] += 1\n",
        "    def moveLeft(self):\n",
        "        self.position[0] -= 1\n",
        "    def moveDown(self):\n",
        "        self.position[1] -= 1\n",
        "    def moveRight(self):\n",
        "        self.position[0] += 1\n",
        "    def print_position(self):\n",
        "        print(tuple(self.position))\n",
        "\n",
        "\n",
        "car = Vehicle()\n",
        "car.print_position()\n",
        "car.moveUp()\n",
        "car.print_position()\n",
        "car.moveLeft()\n",
        "car.print_position()\n",
        "car.moveDown()\n",
        "car.print_position()\n",
        "car.moveRight()"
      ],
      "metadata": {
        "colab": {
          "base_uri": "https://localhost:8080/"
        },
        "id": "hiZmplOB5lw_",
        "outputId": "dfdb5882-1bdb-4f59-cb2f-8f69d6de37a4"
      },
      "execution_count": null,
      "outputs": [
        {
          "output_type": "stream",
          "name": "stdout",
          "text": [
            "(0, 0)\n",
            "(0, 1)\n",
            "(-1, 1)\n",
            "(-1, 0)\n"
          ]
        }
      ]
    },
    {
      "cell_type": "code",
      "source": [
        "# Task 5\n",
        "\n",
        "class Shape:\n",
        "    def __init__(self, name, dim_1, dim_2):\n",
        "        self.name = name\n",
        "        self.dim_1 = dim_1\n",
        "        self.dim_2 = dim_2\n",
        "        self.area_calc = 0\n",
        "    def area(self):\n",
        "        if self.name == \"Triangle\":\n",
        "            self.area_calc = 0.5 * self.dim_1 * self.dim_2\n",
        "        elif self.name == \"Square\":\n",
        "            self.area_calc = self.dim_1 ** 2\n",
        "        elif self.name == \"Rhombus\":\n",
        "            self.area_calc = (self.dim_1 * self.dim_2) / 2\n",
        "        elif self.name == \"Rectangle\":\n",
        "            self.area_calc = self.dim_1 * self.dim_2\n",
        "        else:\n",
        "            self.area_calc = \"Shape unknown\"\n",
        "        \n",
        "        print(f\"Area: {self.area_calc}\")\n",
        "\n",
        "triangle = Shape(\"Triangle\",10,25)\n",
        "triangle.area()\n",
        "print(\"==========================\")\n",
        "square = Shape(\"Square\",10,10)\n",
        "square.area()\n",
        "print(\"==========================\")\n",
        "rhombus = Shape(\"Rhombus\",18,25)\n",
        "rhombus.area()\n",
        "print(\"==========================\")\n",
        "rectangle = Shape(\"Rectangle\",15,30)\n",
        "rectangle.area()\n",
        "print(\"==========================\")\n",
        "trapezium = Shape(\"Trapezium\",15,30)\n",
        "trapezium.area()"
      ],
      "metadata": {
        "colab": {
          "base_uri": "https://localhost:8080/"
        },
        "id": "RiRVEvVL6ze9",
        "outputId": "e7bfca6f-f10d-42e3-a28d-e1163df8f8c8"
      },
      "execution_count": null,
      "outputs": [
        {
          "output_type": "stream",
          "name": "stdout",
          "text": [
            "Area: 125.0\n",
            "==========================\n",
            "Area: 100\n",
            "==========================\n",
            "Area: 225.0\n",
            "==========================\n",
            "Area: 450\n",
            "==========================\n",
            "Area: Shape unknown\n"
          ]
        }
      ]
    },
    {
      "cell_type": "code",
      "source": [
        "# Task 6\n",
        "\n",
        "class Calculator:\n",
        "    def __init__(self):\n",
        "        print(\"Calculator is ready!\")\n",
        "    def calculate(self, val_1, val_2, oper):\n",
        "        self.val_1 = val_1\n",
        "        self.val_2 = val_2\n",
        "        self.oper = oper\n",
        "        if self.oper == \"+\":\n",
        "            self.result = val_1 + val_2\n",
        "        elif self.oper == \"-\":\n",
        "            self.result = val_1 - val_2\n",
        "        elif self.oper == \"*\":\n",
        "            self.result = val_1 * val_2\n",
        "        elif self.oper == \"/\":\n",
        "            self.result = val_1 / val_2\n",
        "        return self.result\n",
        "    def showCalculation(self):\n",
        "        print(f\"{self.val_1} {self.oper} {self.val_2} = {self.result}\")\n",
        "\n",
        "c1 = Calculator()\n",
        "print(\"==================\")\n",
        "val = c1.calculate(10, 20, '+')\n",
        "print(\"Returned value:\", val)\n",
        "c1.showCalculation()\n",
        "print(\"==================\")\n",
        "val = c1.calculate(val, 10, '-')\n",
        "print(\"Returned value:\", val)\n",
        "c1.showCalculation()\n",
        "print(\"==================\")\n",
        "val = c1.calculate(val, 5, '*')\n",
        "print(\"Returned value:\", val)\n",
        "c1.showCalculation()\n",
        "print(\"==================\")\n",
        "val = c1.calculate(val, 16, '/')\n",
        "print(\"Returned value:\", val)\n",
        "c1.showCalculation()"
      ],
      "metadata": {
        "colab": {
          "base_uri": "https://localhost:8080/"
        },
        "id": "hnByOUaX8m7d",
        "outputId": "46b5c950-7182-4870-c528-6106f6c2737c"
      },
      "execution_count": null,
      "outputs": [
        {
          "output_type": "stream",
          "name": "stdout",
          "text": [
            "Calculator is ready!\n",
            "==================\n",
            "Returned value: 30\n",
            "10 + 20 = 30\n",
            "==================\n",
            "Returned value: 20\n",
            "30 - 10 = 20\n",
            "==================\n",
            "Returned value: 100\n",
            "20 * 5 = 100\n",
            "==================\n",
            "Returned value: 6.25\n",
            "100 / 16 = 6.25\n"
          ]
        }
      ]
    },
    {
      "cell_type": "code",
      "source": [
        "# Task 7\n",
        "\n",
        "class Student:\n",
        "    def __init__(self, name, std_id, dept, cgpa_list):\n",
        "        self.name = name\n",
        "        self.std_id = std_id\n",
        "        self.dept = dept\n",
        "        self.cgpa_list = cgpa_list\n",
        "    def calculate_CGPA(self):\n",
        "        self.cgpa = 0\n",
        "        for gpa in self.cgpa_list:\n",
        "            self.cgpa += gpa * 3\n",
        "        self.cgpa = self.cgpa / (len(self.cgpa_list)*3)\n",
        "    def print_details(self):\n",
        "        print(f\"Name: {self.name}, ID: {self.std_id}\")\n",
        "        print(f\"Department: {self.dept}\")\n",
        "        print(f\"CGPA: {self.cgpa}\")\n",
        "        if self.cgpa > 3.8:\n",
        "            print(\"Your academic standing is 'Highest Distinction'\")\n",
        "        elif self.cgpa > 3.65:\n",
        "            print(\"Your academic standing is 'High Distinction'\")\n",
        "        elif self.cgpa > 3.5:\n",
        "            print(\"Your academic standing is 'Distinction'\")\n",
        "        elif self.cgpa > 2:\n",
        "            print(\"Your academic standing is 'Satisfactory'\")\n",
        "        else:\n",
        "            print(\"Sorry you cannot graduate\")\n",
        "\n",
        "s1 = Student('Dora', '15995599','CSE', [4,3.7,3.7,4])\n",
        "s1.calculate_CGPA()\n",
        "print(\"==========================\")\n",
        "s1.print_details()\n",
        "print(\"==========================\")\n",
        "s2 = Student('Pingu', '12312322', 'EEE', [1.7,1.3,1.3,1.3,1])\n",
        "s2.calculate_CGPA()\n",
        "print(\"==========================\")\n",
        "s2.print_details()\n",
        "print(\"==========================\")\n",
        "s3 = Student('Bob', '13311331', 'CSE', [2,3,3,3.7,2.7,2.7])\n",
        "s3.calculate_CGPA()\n",
        "print(\"==========================\")\n",
        "s3.print_details()"
      ],
      "metadata": {
        "colab": {
          "base_uri": "https://localhost:8080/"
        },
        "id": "hSHHg5lr_NVo",
        "outputId": "51f420af-a455-4639-fcae-baa5ab734199"
      },
      "execution_count": null,
      "outputs": [
        {
          "output_type": "stream",
          "name": "stdout",
          "text": [
            "==========================\n",
            "Name: Dora, ID: 15995599\n",
            "Department: CSE\n",
            "CGPA: 3.85\n",
            "Your academic standing is 'Highest Distinction'\n",
            "==========================\n",
            "==========================\n",
            "Name: Pingu, ID: 12312322\n",
            "Department: EEE\n",
            "CGPA: 1.32\n",
            "Sorry you cannot graduate\n",
            "==========================\n",
            "==========================\n",
            "Name: Bob, ID: 13311331\n",
            "Department: CSE\n",
            "CGPA: 2.85\n",
            "Your academic standing is 'Satisfactory'\n"
          ]
        }
      ]
    },
    {
      "cell_type": "code",
      "source": [
        "# Task 8\n",
        "\n",
        "class Shinobi:\n",
        "    def __init__(self, name, rank):\n",
        "        self.name = name\n",
        "        self.rank = rank\n",
        "        self.mission = 0\n",
        "        self.salary = 0\n",
        "    def calSalary(self, mission):\n",
        "        self.mission = mission\n",
        "        if self.rank == \"Genin\":\n",
        "            self.salary = self.mission * 50\n",
        "        elif self.rank == \"Chunin\":\n",
        "            self.salary = self.mission * 100\n",
        "        else:\n",
        "            self.salary = self.mission * 500\n",
        "    def changeRank(self, rank):\n",
        "        self.rank = rank\n",
        "    def printInfo(self):\n",
        "        print(f\"Name: {self.name}\")\n",
        "        print(f\"Rank: {self.rank}\")\n",
        "        print(f\"Number of mission: {self.mission}\")\n",
        "        print(f\"Salary: {self.salary}\") \n",
        "\n",
        "naruto = Shinobi(\"Naruto\", \"Genin\")\n",
        "naruto.calSalary(5)\n",
        "naruto.printInfo()\n",
        "print('====================')\n",
        "shikamaru = Shinobi('Shikamaru', \"Genin\")\n",
        "shikamaru.printInfo()\n",
        "shikamaru.changeRank(\"Chunin\")\n",
        "shikamaru.calSalary(10)\n",
        "shikamaru.printInfo()\n",
        "print('====================')\n",
        "neiji = Shinobi(\"Neiji\", \"Jonin\")\n",
        "neiji.calSalary(5)\n",
        "neiji.printInfo()"
      ],
      "metadata": {
        "colab": {
          "base_uri": "https://localhost:8080/"
        },
        "id": "Rzkn3vn7_cV6",
        "outputId": "eec25970-c060-4318-9452-192ec74fcab4"
      },
      "execution_count": null,
      "outputs": [
        {
          "output_type": "stream",
          "name": "stdout",
          "text": [
            "Name: Naruto\n",
            "Rank: Genin\n",
            "Number of mission: 5\n",
            "Salary: 250\n",
            "====================\n",
            "Name: Shikamaru\n",
            "Rank: Genin\n",
            "Number of mission: 0\n",
            "Salary: 0\n",
            "Name: Shikamaru\n",
            "Rank: Chunin\n",
            "Number of mission: 10\n",
            "Salary: 1000\n",
            "====================\n",
            "Name: Neiji\n",
            "Rank: Jonin\n",
            "Number of mission: 5\n",
            "Salary: 2500\n"
          ]
        }
      ]
    },
    {
      "cell_type": "code",
      "source": [
        "# Task 9\n",
        "class Programmer:\n",
        "    def __init__(self, name, lang, year):\n",
        "        self.name = name\n",
        "        self.lang = lang\n",
        "        self.year = year\n",
        "        print(\"Horray! A new programmer is born\")\n",
        "    \n",
        "    def addExp(self, exp):\n",
        "        print(\"Updating experience of\", self.name)\n",
        "        self.year += exp\n",
        "    def printDetails(self):\n",
        "        print(f\"Name: {self.name}\")\n",
        "        print(f\"Language: {self.lang}\")\n",
        "        print(f\"Experience: {self.year} years.\")\n",
        "\n",
        "p1 = Programmer(\"Ethen Hunt\", \"Java\", 10)\n",
        "p1.printDetails()\n",
        "print('--------------------------')\n",
        "p2 = Programmer(\"James Bond\", \"C++\", 7)\n",
        "p2.printDetails()\n",
        "print('--------------------------')\n",
        "p3 = Programmer(\"Jon Snow\", \"Python\", 4)\n",
        "p3.printDetails()\n",
        "p3.addExp(5)\n",
        "p3.printDetails()"
      ],
      "metadata": {
        "colab": {
          "base_uri": "https://localhost:8080/"
        },
        "id": "ZeG5_0bKDiOD",
        "outputId": "12aaac12-3f58-4f24-d44b-b4beaaad6ebb"
      },
      "execution_count": null,
      "outputs": [
        {
          "output_type": "stream",
          "name": "stdout",
          "text": [
            "Horray! A new programmer is born\n",
            "Name: Ethen Hunt\n",
            "Language: Java\n",
            "Experience: 10 years.\n",
            "--------------------------\n",
            "Horray! A new programmer is born\n",
            "Name: James Bond\n",
            "Language: C++\n",
            "Experience: 7 years.\n",
            "--------------------------\n",
            "Horray! A new programmer is born\n",
            "Name: Jon Snow\n",
            "Language: Python\n",
            "Experience: 4 years.\n",
            "Updating experience of Jon Snow\n",
            "Name: Jon Snow\n",
            "Language: Python\n",
            "Experience: 9 years.\n"
          ]
        }
      ]
    },
    {
      "cell_type": "code",
      "source": [
        "# Task 10\n",
        "\n",
        "class UberEats:\n",
        "    def __init__(self, name, number, address):\n",
        "        self.name = name\n",
        "        self.number = number\n",
        "        self.address = address\n",
        "        print(f\"{self.name}, welcome to UberEats!\")\n",
        "    \n",
        "    def add_items(self, item_1, item_2, price_1, price_2):\n",
        "        self.item_1 = item_1\n",
        "        self.item_2 = item_2\n",
        "        self.price_1 = price_1\n",
        "        self.price_2 = price_2\n",
        "        self.orders = {}\n",
        "        self.orders[self.item_1] = self.price_1\n",
        "        self.orders[self.item_2] = self.price_2\n",
        "    def print_order_detail(self):\n",
        "        return f\"\"\"User details: Name: {self.name}, Phone: {self.number}, Address: {self.address}\n",
        "Orders: {self.orders}\n",
        "Total Paid Amount: {self.price_1 + self.price_2}\"\"\"\n",
        "\n",
        "order1 = UberEats(\"Shakib\", \"01719658xxx\", \"Mohakhali\")\n",
        "print(\"=========================\")\n",
        "order1.add_items(\"Burger\", \"Coca Cola\", 220, 50)\n",
        "print(\"=========================\")\n",
        "print(order1.print_order_detail())\n",
        "print(\"=========================\")\n",
        "order2 = UberEats (\"Siam\", \"01719659xxx\", \"Uttara\")\n",
        "print(\"=========================\")\n",
        "order2.add_items(\"Pineapple\", \"Dairy Milk\", 80, 70)\n",
        "print(\"=========================\")\n",
        "print(order2.print_order_detail())"
      ],
      "metadata": {
        "colab": {
          "base_uri": "https://localhost:8080/"
        },
        "id": "RAXE0S37EgJ6",
        "outputId": "0a2f343c-17fe-4de8-c7fc-2ce910a699a9"
      },
      "execution_count": null,
      "outputs": [
        {
          "output_type": "stream",
          "name": "stdout",
          "text": [
            "Shakib, welcome to UberEats!\n",
            "=========================\n",
            "=========================\n",
            "User details: Name: Shakib, Phone: 01719658xxx, Address: Mohakhali\n",
            "Orders: {'Burger': 220, 'Coca Cola': 50}\n",
            "Total Paid Amount: 270\n",
            "=========================\n",
            "Siam, welcome to UberEats!\n",
            "=========================\n",
            "=========================\n",
            "User details: Name: Siam, Phone: 01719659xxx, Address: Uttara\n",
            "Orders: {'Pineapple': 80, 'Dairy Milk': 70}\n",
            "Total Paid Amount: 150\n"
          ]
        }
      ]
    },
    {
      "cell_type": "code",
      "source": [
        "# Task 11\n",
        "\n",
        "class Spotify:\n",
        "    def __init__(self, playlist):\n",
        "        self.playlist = playlist\n",
        "    def playing_number(self, num):\n",
        "        self.num = num\n",
        "        if self.num > len(self.playlist):\n",
        "            return f\"{self.num} number song not found. Your playist has {self.num} songs only.\"\n",
        "        else:\n",
        "            return f\"##########################\\nPlaying {self.num} number song for you\\nSong name: {self.playlist[self.num-1]}\"\n",
        "    def add_to_playlist(self, song):\n",
        "        self.playlist.append(song)\n",
        "user1 = Spotify([\"See You Again\", \"Uptown Funk\", \"Hello\"])\n",
        "print(\"=========================\")\n",
        "print(user1.playing_number(4))\n",
        "user1.add_to_playlist(\"Dusk Till Dawn\")\n",
        "print(user1.playing_number(3))\n",
        "print(user1.playing_number(4))"
      ],
      "metadata": {
        "colab": {
          "base_uri": "https://localhost:8080/"
        },
        "id": "R46eFBrgGMEB",
        "outputId": "845eb442-cf04-4fb0-dc4a-f934b63758e4"
      },
      "execution_count": null,
      "outputs": [
        {
          "output_type": "stream",
          "name": "stdout",
          "text": [
            "=========================\n",
            "4 number song not found. Your playist has 4 songs only.\n",
            "##########################\n",
            "Playing 3 number song for you\n",
            "Song name: Hello\n",
            "##########################\n",
            "Playing 4 number song for you\n",
            "Song name: Dusk Till Dawn\n"
          ]
        }
      ]
    },
    {
      "cell_type": "code",
      "source": [
        "# Task 12\n",
        "\n",
        "class Test:\n",
        "    def __init__(self):\n",
        "        self.sum = 0\n",
        "        self.y = 0\n",
        "\n",
        "\n",
        "    def methodA(self):\n",
        "        x=0\n",
        "        y =0\n",
        "        y = y + 7\n",
        "        x = y + 11\n",
        "        self.sum = x + y\n",
        "        print(x , y, self.sum)\n",
        "\n",
        "\n",
        "    def methodB(self):\n",
        "        x = 0\n",
        "        self.y = self.y + 11\n",
        "        x = x + 33 + self.y\n",
        "        self.sum = self.sum + x + self.y\n",
        "        print(x , self.y, self.sum)\n",
        "\n",
        "t1 = Test()\n",
        "t1.methodA()\n",
        "t1.methodA()\n",
        "t1.methodB()\n",
        "t1.methodB()\n"
      ],
      "metadata": {
        "colab": {
          "base_uri": "https://localhost:8080/"
        },
        "id": "E4JXYAVdqHGw",
        "outputId": "e8753876-f153-45f5-8d7c-f2a517c7dce4"
      },
      "execution_count": null,
      "outputs": [
        {
          "output_type": "stream",
          "name": "stdout",
          "text": [
            "18 7 25\n",
            "18 7 25\n",
            "44 11 80\n",
            "55 22 157\n"
          ]
        }
      ]
    },
    {
      "cell_type": "code",
      "source": [
        "# Task 13\n",
        "\n",
        "class Scope:\n",
        "    def __init__(self):\n",
        "        self.x, self.y = 1, 100\n",
        "    def met1(self):\n",
        "        x = 3\n",
        "        x = self.x + 1\n",
        "        self.y = self.y + self.x + 1\n",
        "        x = self.y + self.met2() + self.y\n",
        "        print(x, self.y)\n",
        "    def met2(self):\n",
        "        y = 0\n",
        "        print(self.x, y)\n",
        "        self.x = self.x + y\n",
        "        self.y = self.y + 200\n",
        "        return self.x + y\n",
        "\n",
        "q2 = Scope()\n",
        "q2.met1()\n",
        "q2.met2()\n",
        "q2.met1()\n",
        "q2.met2()"
      ],
      "metadata": {
        "colab": {
          "base_uri": "https://localhost:8080/"
        },
        "id": "zyKXXFZoOJih",
        "outputId": "da3618bc-4af2-42f6-d6c6-710cfdc941e8"
      },
      "execution_count": null,
      "outputs": [
        {
          "output_type": "stream",
          "name": "stdout",
          "text": [
            "1 0\n",
            "405 302\n",
            "1 0\n",
            "1 0\n",
            "1209 704\n",
            "1 0\n"
          ]
        },
        {
          "output_type": "execute_result",
          "data": {
            "text/plain": [
              "1"
            ]
          },
          "metadata": {},
          "execution_count": 15
        }
      ]
    },
    {
      "cell_type": "code",
      "source": [
        "class Test3:\n",
        "    def __init__(self):\n",
        "        self.sum, self.y = 0, 0\n",
        "    def methodA(self):\n",
        "        x, y = 2, 3\n",
        "        msg = [0]\n",
        "        msg[0] = 3\n",
        "        y = self.y + msg[0]\n",
        "        self.methodB(msg, msg[0])\n",
        "        x = self.y + msg[0]\n",
        "        self.sum = x + y + msg[0]\n",
        "        print(x, y, self.sum)\n",
        "    def methodB(self, mg2, mg1):\n",
        "        x = 0\n",
        "        self.y = self.y + mg2[0]\n",
        "        x = x + 33 + mg1\n",
        "        self.sum = self.sum + x + self.y\n",
        "        mg2[0] = self.y + mg1\n",
        "        mg1 = mg1 + x + 2\n",
        "        print(x, self.y, self.sum)\n",
        "t3 = Test3()\n",
        "t3.methodA()\n",
        "t3.methodA()\n",
        "t3.methodA()\n",
        "t3.methodA()"
      ],
      "metadata": {
        "colab": {
          "base_uri": "https://localhost:8080/"
        },
        "id": "OensX-OzWKSY",
        "outputId": "2de7e501-c0c8-4c84-915f-01f797386ad8"
      },
      "execution_count": null,
      "outputs": [
        {
          "output_type": "stream",
          "name": "stdout",
          "text": [
            "36 3 39\n",
            "9 3 18\n",
            "36 6 60\n",
            "15 6 30\n",
            "36 9 75\n",
            "21 9 42\n",
            "36 12 90\n",
            "27 12 54\n"
          ]
        }
      ]
    },
    {
      "cell_type": "code",
      "source": [
        "# Task 15\n",
        "\n",
        "class Test5:\n",
        "    def __init__(self):\n",
        "        self.sum, self.y = 0, 0\n",
        "    def methodA(self):    \n",
        "        x = 0\n",
        "        z = 0\n",
        "        while (z < 5):\n",
        "            self.y = self.y + self.sum\n",
        "            x = self.y + 1\n",
        "            print(x, self.y, self.sum)\n",
        "            self.sum = self.sum + self.methodB(x, self.y)\n",
        "            z += 1\n",
        "    def methodB(self, m, n):\n",
        "        x = 0\n",
        "        sum = 0\n",
        "        self.y = self.y + m\n",
        "        x = n - 4\n",
        "        sum = sum + self.y\n",
        "        print(x, self.y, sum)\n",
        "        return self.sum\n",
        "\n",
        "t5 = Test5()\n",
        "t5.methodA()\n"
      ],
      "metadata": {
        "id": "fCG0U6aWWsnX",
        "colab": {
          "base_uri": "https://localhost:8080/"
        },
        "outputId": "923a3466-856d-495f-8f3b-37a4dc013bc8"
      },
      "execution_count": null,
      "outputs": [
        {
          "output_type": "stream",
          "name": "stdout",
          "text": [
            "1 0 0\n",
            "-4 1 1\n",
            "2 1 0\n",
            "-3 3 3\n",
            "4 3 0\n",
            "-1 7 7\n",
            "8 7 0\n",
            "3 15 15\n",
            "16 15 0\n",
            "11 31 31\n"
          ]
        }
      ]
    }
  ]
}
{
  "nbformat": 4,
  "nbformat_minor": 0,
  "metadata": {
    "colab": {
      "provenance": []
    },
    "kernelspec": {
      "name": "python3",
      "display_name": "Python 3"
    },
    "language_info": {
      "name": "python"
    }
  },
  "cells": [
    {
      "cell_type": "code",
      "execution_count": null,
      "metadata": {
        "colab": {
          "base_uri": "https://localhost:8080/",
          "height": 415
        },
        "id": "FcnuFLjJTFpE",
        "outputId": "7b5f2958-682f-442e-b57f-afba2dfc37e6"
      },
      "outputs": [
        {
          "output_type": "error",
          "ename": "RecursionError",
          "evalue": "ignored",
          "traceback": [
            "\u001b[0;31m---------------------------------------------------------------------------\u001b[0m",
            "\u001b[0;31mRecursionError\u001b[0m                            Traceback (most recent call last)",
            "\u001b[0;32m<ipython-input-4-86fd9cf301b8>\u001b[0m in \u001b[0;36m<module>\u001b[0;34m\u001b[0m\n\u001b[1;32m     21\u001b[0m \u001b[0;34m\u001b[0m\u001b[0m\n\u001b[1;32m     22\u001b[0m \u001b[0mcn1\u001b[0m \u001b[0;34m=\u001b[0m \u001b[0mComplexNumber\u001b[0m\u001b[0;34m(\u001b[0m\u001b[0;34m)\u001b[0m\u001b[0;34m\u001b[0m\u001b[0;34m\u001b[0m\u001b[0m\n\u001b[0;32m---> 23\u001b[0;31m \u001b[0mprint\u001b[0m\u001b[0;34m(\u001b[0m\u001b[0mcn1\u001b[0m\u001b[0;34m)\u001b[0m\u001b[0;34m\u001b[0m\u001b[0;34m\u001b[0m\u001b[0m\n\u001b[0m\u001b[1;32m     24\u001b[0m \u001b[0mprint\u001b[0m\u001b[0;34m(\u001b[0m\u001b[0;34m'---------'\u001b[0m\u001b[0;34m)\u001b[0m\u001b[0;34m\u001b[0m\u001b[0;34m\u001b[0m\u001b[0m\n\u001b[1;32m     25\u001b[0m \u001b[0mcn2\u001b[0m \u001b[0;34m=\u001b[0m \u001b[0mComplexNumber\u001b[0m\u001b[0;34m(\u001b[0m\u001b[0;36m5\u001b[0m\u001b[0;34m,\u001b[0m\u001b[0;36m7\u001b[0m\u001b[0;34m)\u001b[0m\u001b[0;34m\u001b[0m\u001b[0;34m\u001b[0m\u001b[0m\n",
            "\u001b[0;32m<ipython-input-4-86fd9cf301b8>\u001b[0m in \u001b[0;36m__str__\u001b[0;34m(self)\u001b[0m\n\u001b[1;32m     18\u001b[0m     \u001b[0;32mdef\u001b[0m \u001b[0m__str__\u001b[0m\u001b[0;34m(\u001b[0m\u001b[0mself\u001b[0m\u001b[0;34m)\u001b[0m\u001b[0;34m:\u001b[0m\u001b[0;34m\u001b[0m\u001b[0;34m\u001b[0m\u001b[0m\n\u001b[1;32m     19\u001b[0m         \u001b[0;32mreturn\u001b[0m \u001b[0mself\u001b[0m\u001b[0;34m.\u001b[0m\u001b[0m__str__\u001b[0m\u001b[0;34m(\u001b[0m\u001b[0;34m)\u001b[0m \u001b[0;34m+\u001b[0m\u001b[0;31m \u001b[0m\u001b[0;31m\\\u001b[0m\u001b[0;34m\u001b[0m\u001b[0;34m\u001b[0m\u001b[0m\n\u001b[0;32m---> 20\u001b[0;31m \u001b[0;34m'\\nImaginaryPart: '\u001b[0m \u001b[0;34m+\u001b[0m \u001b[0mstr\u001b[0m\u001b[0;34m(\u001b[0m\u001b[0mself\u001b[0m\u001b[0;34m.\u001b[0m\u001b[0mi\u001b[0m\u001b[0;34m)\u001b[0m\u001b[0;34m\u001b[0m\u001b[0;34m\u001b[0m\u001b[0m\n\u001b[0m\u001b[1;32m     21\u001b[0m \u001b[0;34m\u001b[0m\u001b[0m\n\u001b[1;32m     22\u001b[0m \u001b[0mcn1\u001b[0m \u001b[0;34m=\u001b[0m \u001b[0mComplexNumber\u001b[0m\u001b[0;34m(\u001b[0m\u001b[0;34m)\u001b[0m\u001b[0;34m\u001b[0m\u001b[0;34m\u001b[0m\u001b[0m\n",
            "... last 1 frames repeated, from the frame below ...\n",
            "\u001b[0;32m<ipython-input-4-86fd9cf301b8>\u001b[0m in \u001b[0;36m__str__\u001b[0;34m(self)\u001b[0m\n\u001b[1;32m     18\u001b[0m     \u001b[0;32mdef\u001b[0m \u001b[0m__str__\u001b[0m\u001b[0;34m(\u001b[0m\u001b[0mself\u001b[0m\u001b[0;34m)\u001b[0m\u001b[0;34m:\u001b[0m\u001b[0;34m\u001b[0m\u001b[0;34m\u001b[0m\u001b[0m\n\u001b[1;32m     19\u001b[0m         \u001b[0;32mreturn\u001b[0m \u001b[0mself\u001b[0m\u001b[0;34m.\u001b[0m\u001b[0m__str__\u001b[0m\u001b[0;34m(\u001b[0m\u001b[0;34m)\u001b[0m \u001b[0;34m+\u001b[0m\u001b[0;31m \u001b[0m\u001b[0;31m\\\u001b[0m\u001b[0;34m\u001b[0m\u001b[0;34m\u001b[0m\u001b[0m\n\u001b[0;32m---> 20\u001b[0;31m \u001b[0;34m'\\nImaginaryPart: '\u001b[0m \u001b[0;34m+\u001b[0m \u001b[0mstr\u001b[0m\u001b[0;34m(\u001b[0m\u001b[0mself\u001b[0m\u001b[0;34m.\u001b[0m\u001b[0mi\u001b[0m\u001b[0;34m)\u001b[0m\u001b[0;34m\u001b[0m\u001b[0;34m\u001b[0m\u001b[0m\n\u001b[0m\u001b[1;32m     21\u001b[0m \u001b[0;34m\u001b[0m\u001b[0m\n\u001b[1;32m     22\u001b[0m \u001b[0mcn1\u001b[0m \u001b[0;34m=\u001b[0m \u001b[0mComplexNumber\u001b[0m\u001b[0;34m(\u001b[0m\u001b[0;34m)\u001b[0m\u001b[0;34m\u001b[0m\u001b[0;34m\u001b[0m\u001b[0m\n",
            "\u001b[0;31mRecursionError\u001b[0m: maximum recursion depth exceeded"
          ]
        }
      ],
      "source": [
        "# Task 1\n",
        "\n",
        "class RealNumber:\n",
        "    \n",
        "    def __init__(self, r=0):\n",
        "        self.__realValue = r  \n",
        "    def getRealValue(self):\n",
        "        return self.__realValue\n",
        "    def setRealValue(self, r):\n",
        "        self.__realValue = r\n",
        "    def __str__(self):\n",
        "        return 'RealPart: '+str(self.getRealValue())\n",
        "\n",
        "class ComplexNumber(RealNumber):\n",
        "    def __init__(self, real = 1.0, imag = 1.0):\n",
        "        super().setRealValue(real)\n",
        "        self.i = imag\n",
        "    def __str__(self):\n",
        "        return 'RealPart: ' + str(self.getRealValue()) + \\\n",
        "'\\nImaginaryPart: ' + str(self.i)\n",
        "\n",
        "cn1 = ComplexNumber()\n",
        "print(cn1)\n",
        "print('---------')\n",
        "cn2 = ComplexNumber(5,7)\n",
        "print(cn2)"
      ]
    },
    {
      "cell_type": "code",
      "source": [
        "# Task 2\n",
        "\n",
        "class RealNumber:\n",
        "    def __init__(self, number=0):\n",
        "        self.number = number\n",
        "    def __add__(self, anotherRealNumber):\n",
        "        return self.number + anotherRealNumber.number\n",
        "    def __sub__(self, anotherRealNumber):\n",
        "        return self.number - anotherRealNumber.number\n",
        "    def __str__(self):\n",
        "        return str(self.number)\n",
        "\n",
        "class ComplexNumber(RealNumber):\n",
        "    def __init__(self, real, imag):\n",
        "        if type(real) == RealNumber:\n",
        "            super().__init__(real.number)\n",
        "        else:\n",
        "            super().__init__(real)\n",
        "        self.imag = imag\n",
        "    \n",
        "    def __add__(self, other):\n",
        "        return type(self)((self.number + other.number),\n",
        "                          (self.imag + other.imag))\n",
        "    def __sub__(self, other):\n",
        "        return type(self)((self.number - other.number), (self.imag - other.imag))\n",
        "    def __str__(self):\n",
        "        if self.imag < 0:\n",
        "            return f\"{self.number} - {-self.imag}i\"\n",
        "        else:\n",
        "            return f\"{self.number} + {self.imag}i\"\n",
        "r1 = RealNumber(3)\n",
        "r2 = RealNumber(5)\n",
        "print(r1+r2)\n",
        "cn1 = ComplexNumber(2, 1)\n",
        "print(cn1)\n",
        "cn2 = ComplexNumber(r1, 5)\n",
        "print(cn2)\n",
        "cn3 = cn1 + cn2\n",
        "print(cn3)\n",
        "cn4 = cn1 - cn2\n",
        "print(cn4)\n"
      ],
      "metadata": {
        "colab": {
          "base_uri": "https://localhost:8080/"
        },
        "id": "y8EX97zlVHFi",
        "outputId": "89e931a6-130f-410c-dfd0-078c93e96bf3"
      },
      "execution_count": null,
      "outputs": [
        {
          "output_type": "stream",
          "name": "stdout",
          "text": [
            "8\n",
            "2 + 1i\n",
            "3 + 5i\n",
            "5 + 6i\n",
            "-1 - 4i\n"
          ]
        }
      ]
    },
    {
      "cell_type": "code",
      "source": [
        "# Task 3\n",
        "\n",
        "class Account: \n",
        "    def __init__(self, balance):\n",
        "        self._balance = balance\n",
        "        \n",
        "    def getBalance(self):\n",
        "        return self._balance\n",
        "    \n",
        "class CheckingAccount(Account):\n",
        "    numberOfAccount = 0\n",
        "    def __init__(self, balance = 0.0):\n",
        "        super().__init__(balance)\n",
        "        type(self).numberOfAccount += 1\n",
        "\n",
        "    def __str__(self):\n",
        "        return \"Account Balance: %.2f\" % self.getBalance()\n",
        "    \n",
        "print('Number of Checking Accounts: ', CheckingAccount.numberOfAccount)\n",
        "print(CheckingAccount())\n",
        "print(CheckingAccount(100.00))\n",
        "print(CheckingAccount(200.00))\n",
        "print('Number of Checking Accounts: ', CheckingAccount.numberOfAccount)"
      ],
      "metadata": {
        "colab": {
          "base_uri": "https://localhost:8080/"
        },
        "id": "Rp4gsBo_Ziz_",
        "outputId": "4197cc9b-72c6-488c-acd8-86cfb79e0369"
      },
      "execution_count": null,
      "outputs": [
        {
          "output_type": "stream",
          "name": "stdout",
          "text": [
            "Number of Checking Accounts:  0\n",
            "Account Balance: 0.00\n",
            "Account Balance: 100.00\n",
            "Account Balance: 200.00\n",
            "Number of Checking Accounts:  3\n"
          ]
        }
      ]
    },
    {
      "cell_type": "code",
      "source": [
        "# Task 4\n",
        "\n",
        "class Fruit:\n",
        "    def __init__(self, formalin=False, name=''):\n",
        "        self.__formalin = formalin\n",
        "        self.name = name\n",
        "    \n",
        "    def getName(self):\n",
        "        return self.name\n",
        "    \n",
        "    def hasFormalin(self):\n",
        "        return self.__formalin\n",
        "    \n",
        "class testFruit:\n",
        "    def test(self, f):\n",
        "        print('----Printing Detail----')\n",
        "        if f.hasFormalin():\n",
        "            print('Do not eat the',f.getName(),'.')\n",
        "            print(f)\n",
        "        else:\n",
        "            print('Eat the',f.getName(),'.')\n",
        "            print(f)\n",
        "\n",
        "class Mango(Fruit):\n",
        "    def __init__(self, formalin = True, name = 'Mango'):\n",
        "        super().__init__(formalin, name)\n",
        "    def __str__(self):\n",
        "        if self.hasFormalin():\n",
        "            return self.getName() + 's are bad for you'\n",
        "        else:\n",
        "            return self.getName() + 's are good for you'\n",
        "class Jackfruit(Fruit):\n",
        "    def __init__(self, formalin = False, name = \"Jackfruit\"):\n",
        "        super().__init__(formalin, name)\n",
        "    def __str__(self):\n",
        "        if self.hasFormalin():\n",
        "            return self.getName() + 's are bad for you'\n",
        "        else:\n",
        "            return self.getName() + 's are good for you'\n",
        "m = Mango()\n",
        "j = Jackfruit()\n",
        "t1 = testFruit()\n",
        "t1.test(m)\n",
        "t1.test(j)"
      ],
      "metadata": {
        "colab": {
          "base_uri": "https://localhost:8080/"
        },
        "id": "GleuhtWbawEa",
        "outputId": "391100be-7ec7-435b-9b4f-2552fca98a92"
      },
      "execution_count": null,
      "outputs": [
        {
          "output_type": "stream",
          "name": "stdout",
          "text": [
            "----Printing Detail----\n",
            "Do not eat the Mango .\n",
            "Mangos are bad for you\n",
            "----Printing Detail----\n",
            "Eat the Jackfruit .\n",
            "Jackfruits are good for you\n"
          ]
        }
      ]
    },
    {
      "cell_type": "code",
      "source": [
        "# Task 5\n",
        "\n",
        "class Exam:\n",
        "    def __init__(self,marks):\n",
        "        self.marks = marks\n",
        "        self.time = 60\n",
        "        \n",
        "    def examSyllabus(self):\n",
        "        return \"Maths , English\"\n",
        "    def examParts(self):\n",
        "        return \"Part 1 - Maths\\nPart 2 - English\\n\"\n",
        "    \n",
        "class ScienceExam(Exam):\n",
        "    def __init__(self, marks, time, *subjects):\n",
        "        super().__init__(marks)\n",
        "        \n",
        "        self.time = time\n",
        "        self.subjects = subjects\n",
        "    def examSyllabus(self):\n",
        "        return super().examSyllabus() + \", \" +\\\n",
        "         \" , \".join(list(self.subjects))\n",
        "    def examParts(self):\n",
        "        result = \"\"\n",
        "        for i in range(0, len(self.subjects)):\n",
        "            if i == len(self.subjects) - 1:\n",
        "                result += f\"Part {(i+3)} - {self.subjects[i]}\"\n",
        "            else:\n",
        "                result += f\"Part {str(i+3)} - {self.subjects[i]}\\n\"\n",
        "        return super().examParts() + result\n",
        "    def __str__(self):\n",
        "        return f\"Marks: {self.marks} Time: {self.time} minutes Number of Parts: {2+len(self.subjects)}\"\n",
        "\n",
        "engineering = ScienceExam(100,90,\"Physics\",\"HigherMaths\")\n",
        "print(engineering)\n",
        "print('----------------------------------')\n",
        "print(engineering.examSyllabus())\n",
        "print(engineering.examParts())\n",
        "print('==================================') \n",
        "architecture = ScienceExam(100,120,\"Physics\",\"HigherMaths\",\"Drawing\")\n",
        "print(architecture)\n",
        "print('----------------------------------')\n",
        "print(architecture.examSyllabus())\n",
        "print(architecture.examParts())"
      ],
      "metadata": {
        "colab": {
          "base_uri": "https://localhost:8080/"
        },
        "id": "U_7w6kpcdD5x",
        "outputId": "63eb29c4-c777-48d9-8669-1dcf9363562b"
      },
      "execution_count": null,
      "outputs": [
        {
          "output_type": "stream",
          "name": "stdout",
          "text": [
            "Marks: 100 Time: 90 minutes Number of Parts: 4\n",
            "----------------------------------\n",
            "Maths , English, Physics , HigherMaths\n",
            "Part 1 - Maths\n",
            "Part 2 - English\n",
            "Part 3 - Physics\n",
            "Part 4 - HigherMaths\n",
            "==================================\n",
            "Marks: 100 Time: 120 minutes Number of Parts: 5\n",
            "----------------------------------\n",
            "Maths , English, Physics , HigherMaths , Drawing\n",
            "Part 1 - Maths\n",
            "Part 2 - English\n",
            "Part 3 - Physics\n",
            "Part 4 - HigherMaths\n",
            "Part 5 - Drawing\n"
          ]
        }
      ]
    },
    {
      "cell_type": "code",
      "source": [
        "# Task 6\n",
        "\n",
        "class Shape3D:\n",
        "\n",
        "    pi = 3.14159\n",
        "    def __init__(self, name = 'Default', radius = 0):\n",
        "        self._area = 0\n",
        "        self._name = name\n",
        "        self._height = 'No need'\n",
        "        self._radius = radius   \n",
        "\n",
        "    def calc_surface_area(self):\n",
        "        return 2 * Shape3D.pi * self._radius\n",
        "\n",
        "    def __str__(self):\n",
        "        return \"Radius: \"+str(self._radius)\n",
        "\n",
        "class Sphere(Shape3D):\n",
        "    def __init__(self, name, radius):\n",
        "        super().__init__(name, radius)\n",
        "        print(\"Shape name: Sphere, Area Formula: 4 * pi * r * r\")\n",
        "    def calc_surface_area(self):\n",
        "        self._area = 4 * Shape3D.pi * self._radius**2\n",
        "    def __str__(self):\n",
        "        return f\"Radius: {self._radius}, Height: {self._height}\\nArea: {self._area}\"\n",
        "\n",
        "class Cylinder(Shape3D):\n",
        "    def __init__(self, name, radius, height):\n",
        "        super().__init__(name, radius)\n",
        "        self._height = height\n",
        "        print(f\"Shape name: {self._name}, Area Formula: 2 * pi * r * (r + h)\")\n",
        "    def calc_surface_area(self):\n",
        "        self._area = 2 * Shape3D.pi * self._radius *\\\n",
        "         (self._radius + self._height)\n",
        "        return self._area\n",
        "    def __str__(self):\n",
        "        return f\"Radius: {self._radius}, Height: {self._height}\" +\\\n",
        "               f\"\\nArea: {self._area}\"\n",
        "\n",
        "sph = Sphere('Sphere', 5)\n",
        "print('----------------------------------')\n",
        "sph.calc_surface_area()\n",
        "print(sph)\n",
        "print('==================================')\n",
        "cyl = Cylinder('Cylinder', 5, 10)\n",
        "print('----------------------------------')\n",
        "cyl.calc_surface_area()\n",
        "print(cyl)\n"
      ],
      "metadata": {
        "colab": {
          "base_uri": "https://localhost:8080/"
        },
        "id": "HGg6kXVtlWBR",
        "outputId": "1bc36d48-1ee2-4360-a99d-5c1f42f131aa"
      },
      "execution_count": null,
      "outputs": [
        {
          "output_type": "stream",
          "name": "stdout",
          "text": [
            "Shape name: Sphere, Area Formula: 4 * pi * r * r\n",
            "----------------------------------\n",
            "Radius: 5, Height: No need\n",
            "Area: 314.159\n",
            "==================================\n",
            "Shape name: Cylinder, Area Formula: 2 * pi * r * (r + h)\n",
            "----------------------------------\n",
            "Radius: 5, Height: 10\n",
            "Area: 471.2385\n"
          ]
        }
      ]
    },
    {
      "cell_type": "code",
      "source": [
        "# Task 7\n",
        "\n",
        "class PokemonBasic:\n",
        "\n",
        "    def __init__(self, name = 'Default', hp = 0, weakness = 'None', type = 'Unknown'):\n",
        "        self.name = name\n",
        "        self.hit_point = hp\n",
        "        self.weakness = weakness\n",
        "        self.type = type\n",
        "\n",
        "    def get_type(self):\n",
        "        return 'Main type: ' + self.type\n",
        "\n",
        "    def get_move(self):\n",
        "        return 'Basic move: ' + 'Quick Attack'\n",
        "\n",
        "    def __str__(self):\n",
        "        return \"Name: \" + self.name + \", HP: \" + str(self.hit_point) + \", Weakness: \" + self.weakness\n",
        "\n",
        "class PokemonExtra(PokemonBasic):\n",
        "    def __init__(self, name, hp, weakness, type_1, type_2 = None, other_move = None):\n",
        "        super().__init__(name, hp, weakness, type_1)\n",
        "        self.type_2 = type_2\n",
        "        self.other_move = other_move\n",
        "    def get_type(self):\n",
        "        if self.type_2 == None:\n",
        "            return super().get_type()\n",
        "        else:\n",
        "            return super().get_type() + f\", Secondary type: {self.type_2}\"        \n",
        "    def get_move(self):\n",
        "        if self.other_move == None:\n",
        "            return super().get_move()\n",
        "        else:\n",
        "            return f\"{super().get_move()}\\nOther move: {', '.join(list(self.other_move))}\"\n",
        "\n",
        "print('\\n------------Basic Info:--------------')\n",
        "pk = PokemonBasic()\n",
        "print(pk)\n",
        "print(pk.get_type())\n",
        "print(pk.get_move())\n",
        "\n",
        "print('\\n------------Pokemon 1 Info:-------------')\n",
        "charmander = PokemonExtra('Charmander', 39, 'Water', 'Fire')\n",
        "print(charmander)\n",
        "print(charmander.get_type())\n",
        "print(charmander.get_move())\n",
        "\n",
        "print('\\n------------Pokemon 2 Info:-------------')\n",
        "charizard = PokemonExtra('Charizard', 78, 'Water', 'Fire', 'Flying', ('Fire Spin', 'Fire Blaze'))\n",
        "print(charizard)\n",
        "print(charizard.get_type())\n",
        "print(charizard.get_move())\n"
      ],
      "metadata": {
        "colab": {
          "base_uri": "https://localhost:8080/"
        },
        "id": "lSp9ShSqpWw5",
        "outputId": "3ffc6607-8572-440d-ea0a-7de22b48f521"
      },
      "execution_count": null,
      "outputs": [
        {
          "output_type": "stream",
          "name": "stdout",
          "text": [
            "\n",
            "------------Basic Info:--------------\n",
            "Name: Default, HP: 0, Weakness: None\n",
            "Main type: Unknown\n",
            "Basic move: Quick Attack\n",
            "\n",
            "------------Pokemon 1 Info:-------------\n",
            "Name: Charmander, HP: 39, Weakness: Water\n",
            "Main type: Fire\n",
            "Basic move: Quick Attack\n",
            "\n",
            "------------Pokemon 2 Info:-------------\n",
            "Name: Charizard, HP: 78, Weakness: Water\n",
            "Main type: Fire, Secondary type: Flying\n",
            "Basic move: Quick Attack\n",
            "Other move: Fire Spin, Fire Blaze\n"
          ]
        }
      ]
    },
    {
      "cell_type": "code",
      "source": [
        "# Task 8\n",
        "\n",
        "class Team:\n",
        "\n",
        "    def __init__(self, name):\n",
        "        self.name = \"default\"\n",
        "        self.total_player = 5\n",
        "    def info(self):\n",
        "        print(\"We love sports\")\n",
        "\n",
        "class FootBallTeam(Team):\n",
        "    def __init__(self, name):\n",
        "        super().__init__(name)\n",
        "        self.name = name\n",
        "        self.total_player = 11\n",
        "    def info(self):\n",
        "        print(f\"Our name is {self.name}\")\n",
        "        print(\"We play Football\")\n",
        "        super().info()\n",
        "\n",
        "class CricketTeam(Team):\n",
        "    def __init__(self, name):\n",
        "        super().__init__(name)\n",
        "        self.name = name\n",
        "        self.total_player = 11\n",
        "    def info(self):\n",
        "        print(f\"Our name is {self.name}\")\n",
        "        print(\"We play Cricket\")\n",
        "        print(\"We love sports\")\n",
        "\n",
        "class Team_test:\n",
        "    def check(self, tm):\n",
        "        print(\"=========================\")\n",
        "        print(\"Total Player: \", tm.total_player)\n",
        "        tm.info()\n",
        "\n",
        "f = FootBallTeam(\"Brazil\")\n",
        "c = CricketTeam(\"Bangladesh\")\n",
        "test = Team_test()\n",
        "test.check(f)\n",
        "test.check(c)\n"
      ],
      "metadata": {
        "colab": {
          "base_uri": "https://localhost:8080/"
        },
        "id": "neuWqzWWsZLa",
        "outputId": "caf2d87a-bca8-48ce-a398-11ce7a09ac52"
      },
      "execution_count": null,
      "outputs": [
        {
          "output_type": "stream",
          "name": "stdout",
          "text": [
            "=========================\n",
            "Total Player:  11\n",
            "Our name is Brazil\n",
            "We play Football\n",
            "We love sports\n",
            "=========================\n",
            "Total Player:  11\n",
            "Our name is Bangladesh\n",
            "We play Cricket\n",
            "We love sports\n"
          ]
        }
      ]
    },
    {
      "cell_type": "code",
      "source": [
        "# Task 9\n",
        "\n",
        "class Pokemon:\n",
        "\n",
        "    def __init__(self, p):\n",
        "        self.pokemon = p\n",
        "        self.pokemon_type = \"Needs to be set\"\n",
        "        self.pokemon_weakness = \"Needs to be set\"\n",
        "    def kind(self):\n",
        "        return self.pokemon_type     \n",
        "    def weakness(self):\n",
        "        return self.pokemon_weakness \n",
        "    def what_am_i(self):\n",
        "        print(\"I am a Pokemon.\")\n",
        "\n",
        "class Pikachu(Pokemon):\n",
        "    def __init__(self, pokemon = \"Pikachu\"):\n",
        "        super().__init__(pokemon)\n",
        "        self.pokemon_type = \"Electric\"\n",
        "        self.pokemon_weakness = \"Ground\"\n",
        "    def what_am_i(self):\n",
        "        super().what_am_i()\n",
        "        print(\"I am Pikachu.\")\n",
        "\n",
        "class Charmander(Pokemon):\n",
        "    def __init__(self, pokemon = \"Charmander\"):\n",
        "        super().__init__(pokemon)\n",
        "        self.pokemon_type = \"Fire\"\n",
        "        self.pokemon_weakness = \"Water, Ground and Rock\"\n",
        "    def what_am_i(self):\n",
        "        super().what_am_i()\n",
        "        print(\"I am Charmander.\")\n",
        "\n",
        "pk1 = Pikachu()\n",
        "print(\"Pokemon:\", pk1.pokemon)\n",
        "print(\"Type:\", pk1.kind())\n",
        "print(\"Weakness:\", pk1.weakness())\n",
        "pk1.what_am_i()\n",
        "print(\"========================\")\n",
        "c1 = Charmander()\n",
        "print(\"Pokemon:\", c1.pokemon)\n",
        "print(\"Type:\", c1.kind())\n",
        "print(\"Weakness:\", c1.weakness())\n",
        "c1.what_am_i()\n"
      ],
      "metadata": {
        "colab": {
          "base_uri": "https://localhost:8080/"
        },
        "id": "tvxExguEtwSm",
        "outputId": "488cba89-5650-46e1-c61c-e0f96e670938"
      },
      "execution_count": null,
      "outputs": [
        {
          "output_type": "stream",
          "name": "stdout",
          "text": [
            "Pokemon: Pikachu\n",
            "Type: Electric\n",
            "Weakness: Ground\n",
            "I am a Pokemon.\n",
            "I am Pikachu\n",
            "========================\n",
            "Pokemon: Charmander\n",
            "Type: Fire\n",
            "Weakness: Water, Ground and Rock\n",
            "I am a Pokemon.\n",
            "I am Charmander\n"
          ]
        }
      ]
    },
    {
      "cell_type": "code",
      "source": [
        "# Task 10\n",
        "\n",
        "class Department:\n",
        "    def __init__(self, s):\n",
        "        self.semester = s\n",
        "        self.name = \"Default\"\n",
        "        self.id = -1\n",
        "        \n",
        "    def student_info(self):\n",
        "        print(\"Name:\", self.name)\n",
        "        print(\"ID:\", self.id) \n",
        "        \n",
        "    def courses(self, c1, c2, c3):\n",
        "        print(\"No courses Approved yet!\")\n",
        "\n",
        "class CSE(Department):\n",
        "    def __init__(self, name, id, semester):\n",
        "        super().__init__(semester)\n",
        "        self.name = name\n",
        "        self.id = id\n",
        "\n",
        "    def courses(self, c1, c2, c3):\n",
        "        print(f\"Courses Approved to this CSE student in {self.semester} semester:\")\n",
        "        print(\"\\n\".join((c1, c2, c3)))\n",
        "\n",
        "class EEE(Department):\n",
        "    def __init__(self, name, id, semester):\n",
        "        super().__init__(semester)\n",
        "        self.name = name\n",
        "        self.id = id\n",
        "\n",
        "    def courses(self, c1, c2, c3):\n",
        "        print(f\"Courses Approved to this EEE student in {self.semester} semester:\")\n",
        "        print(\"\\n\".join((c1, c2, c3)))\n",
        "\n",
        "s1 = CSE(\"Rahim\", 16101328,\"Spring2016\")\n",
        "s1.student_info()\n",
        "s1.courses(\"CSE110\", \"MAT110\", \"ENG101\")\n",
        "print(\"==================\")\n",
        "s2 = EEE(\"Tanzim\", 18101326, \"Spring2018\")\n",
        "s2.student_info()\n",
        "s2.courses(\"Mat110\", \"PHY111\", \"ENG101\")\n",
        "print(\"==================\")\n",
        "s3 = CSE(\"Rudana\", 18101326, \"Fall2017\")\n",
        "s3.student_info()\n",
        "s3.courses(\"CSE111\", \"PHY101\", \"MAT120\")\n",
        "print(\"==================\")\n",
        "s4 = EEE(\"Zainab\", 19201623, \"Summer2019\")\n",
        "s4.student_info()\n",
        "s4.courses(\"EEE201\", \"PHY112\", \"MAT120\")\n"
      ],
      "metadata": {
        "colab": {
          "base_uri": "https://localhost:8080/"
        },
        "id": "WjVqxH7KjqWM",
        "outputId": "e16e1aab-8f96-43e7-db5a-96e236b18cac"
      },
      "execution_count": null,
      "outputs": [
        {
          "output_type": "stream",
          "name": "stdout",
          "text": [
            "Name: Rahim\n",
            "ID: 16101328\n",
            "Courses Approved to this CSE student in Spring2016 sememster:\n",
            "CSE110\n",
            "MAT110\n",
            "ENG101\n",
            "==================\n",
            "Name: Tanzim\n",
            "ID: 18101326\n",
            "Courses Approved to this EEE student in Spring2018 sememster:\n",
            "Mat110\n",
            "PHY111\n",
            "ENG101\n",
            "==================\n",
            "Name: Rudana\n",
            "ID: 18101326\n",
            "Courses Approved to this CSE student in Fall2017 sememster:\n",
            "CSE111\n",
            "PHY101\n",
            "MAT120\n",
            "==================\n",
            "Name: Zainab\n",
            "ID: 19201623\n",
            "Courses Approved to this EEE student in Summer2019 sememster:\n",
            "EEE201\n",
            "PHY112\n",
            "MAT120\n"
          ]
        }
      ]
    },
    {
      "cell_type": "code",
      "source": [
        "# Task 11\n",
        "\n",
        "class A:\n",
        "    def __init__(self):\n",
        "        self.temp = 4\n",
        "        self.sum = 1\n",
        "        self.y = 2\n",
        "        self.y = self.temp - 2\n",
        "        self.sum = self.temp + 3\n",
        "        self.temp -= 2\n",
        "    def methodA(self, m,  n):\n",
        "        x = 0\n",
        "        self.y = self.y + m + self.temp\n",
        "        self.temp += 1\n",
        "        x = x + 2 + n\n",
        "        self.sum = self.sum + x + self.y\n",
        "        print(x, self.y, self.sum)\n",
        "        \n",
        "class B(A):\n",
        "    def __init__(self, b=None):\n",
        "        super().__init__()\n",
        "        self.x = 1\n",
        "        self.sum = 2\n",
        "        if b == None:\n",
        "            self.y = self.temp + 3\n",
        "            self.sum = 3 + self.temp + 2\n",
        "            self.temp -= 1\n",
        "        else:\n",
        "            self.sum = b.sum\n",
        "            self.x = b.x\n",
        "    def methodB(self, m,  n):\n",
        "        y = 0\n",
        "        y = y + self.y\n",
        "        self.x = y + 2 + self.temp\n",
        "        self.methodA(self.x, y)\n",
        "        self.sum = self.x + y + self.sum\n",
        "        print(self.x, y, self.sum)\n",
        "\n",
        "a1 = A()\n",
        "b1 = B()\n",
        "b2 = B(b1)\n",
        "a1.methodA(1, 1)\n",
        "b1.methodA(1, 2)\n",
        "b2.methodB(3, 2)\n"
      ],
      "metadata": {
        "colab": {
          "base_uri": "https://localhost:8080/"
        },
        "id": "y5d3JWZNzoB_",
        "outputId": "4430159b-d694-4564-b76a-26dd8a8e0f6f"
      },
      "execution_count": null,
      "outputs": [
        {
          "output_type": "stream",
          "name": "stdout",
          "text": [
            "3 5 15\n",
            "4 7 18\n",
            "4 10 21\n",
            "6 2 29\n"
          ]
        }
      ]
    },
    {
      "cell_type": "code",
      "source": [
        "# Task 12\n",
        "\n",
        "class A:\n",
        "    temp = 4\n",
        "    def __init__(self):\n",
        "        self.sum = 0\n",
        "        self.y = 0\n",
        "        self.y = A.temp - 2\n",
        "        self.sum = A.temp + 1\n",
        "        A.temp -= 2\n",
        "    def methodA(self, m,  n):\n",
        "        x = 0\n",
        "        self.y = self.y + m + (A.temp)\n",
        "        A.temp += 1\n",
        "        x = x + 1 + n\n",
        "        self.sum = self.sum + x + self.y\n",
        "        print(x, self.y, self.sum)\n",
        " \n",
        "class B(A):\n",
        "    x = 0\n",
        "    def __init__(self,b=None):\n",
        "        super().__init__()\n",
        "        self.sum = 0\n",
        "        if b==None:\n",
        "            self.y = A.temp + 3\n",
        "            self.sum = 3 + A.temp + 2\n",
        "            A.temp -= 2\n",
        "        else:\n",
        "            self.sum = b.sum\n",
        "            B.x = b.x\n",
        "            b.methodB(2, 3)\n",
        "    def methodB(self, m,  n):\n",
        "        y = 0\n",
        "        y = y + self.y\n",
        "        B.x = self.y + 2 + A.temp\n",
        "        self.methodA(B.x, y)\n",
        "        self.sum = B.x + y + self.sum\n",
        "        print(B.x, y, self.sum)\n",
        "\n",
        "a1 = A()\n",
        "b1 = B()\n",
        "b2 = B(b1)\n",
        "b1.methodA(1, 2)\n",
        "b2.methodB(3, 2)"
      ],
      "metadata": {
        "colab": {
          "base_uri": "https://localhost:8080/"
        },
        "id": "22nre0eMz355",
        "outputId": "158cb094-0610-40a5-e5b5-61c10078e00a"
      },
      "execution_count": null,
      "outputs": [
        {
          "output_type": "stream",
          "name": "stdout",
          "text": [
            "4 0 9\n",
            "1 3 13\n",
            "3 -2 14\n",
            "-3 -10 -8\n",
            "-4 -4 -16\n"
          ]
        }
      ]
    },
    {
      "cell_type": "code",
      "source": [
        "# Task 13\n",
        "\n",
        "class A:\n",
        "  temp = 3\n",
        "  def __init__(self):\n",
        "    self.sum = 0\n",
        "    self.y = 0\n",
        "    self.y = A.temp - 1\n",
        "    self.sum = A.temp + 2\n",
        "    A.temp -= 2\n",
        "  \n",
        "  def methodA(self, m, n):\n",
        "    x = 0\n",
        "    n[0] += 1\n",
        "    self.y = self.y + m + A.temp\n",
        "    A.temp += 1\n",
        "    x = x + 2 + n[0]\n",
        "    n[0] = self.sum + 2\n",
        "    print(f\"{x} {self.y} {self.sum}\")\n",
        " \n",
        "class B(A):\n",
        "  x = 1\n",
        "  def __init__(self, b = None):\n",
        "    super().__init__()\n",
        "    self.sum = 2\n",
        "    if b == None:  \n",
        "      self.y = self.temp + 1    \n",
        "      B.x = 3 + A.temp + self.x\n",
        "      A.temp -= 2\n",
        "    else:\n",
        "      self.sum = self.sum + self.sum\n",
        "      B.x = b.x + self.x\n",
        "  def methodB(self, m, n):\n",
        "    y = [0]\n",
        "    self.y = y[0] + self.y + m\n",
        "    B.x = self.y + 2 +  self.temp - n\n",
        "    self.methodA(self.x, y)\n",
        "    self.sum = self.x + y[0] + self.sum\n",
        "    print(f\"{self.x} {y[0]} {self.sum}\")\n",
        "\n",
        "x = [23]\n",
        "a1 = A()\n",
        "b1 = B()\n",
        "b2 = B(b1)\n",
        "a1.methodA(1, x)\n",
        "b2.methodB(3, 2)\n",
        "a1.methodA(1, x)"
      ],
      "metadata": {
        "colab": {
          "base_uri": "https://localhost:8080/"
        },
        "id": "iB_lAgs1z9i9",
        "outputId": "3533664a-0673-414f-df2b-e06a6a79c883"
      },
      "execution_count": null,
      "outputs": [
        {
          "output_type": "stream",
          "name": "stdout",
          "text": [
            "26 -2 5\n",
            "3 -10 4\n",
            "-5 6 5\n",
            "10 -4 5\n"
          ]
        }
      ]
    },
    {
      "cell_type": "code",
      "source": [
        "# Task 14\n",
        "\n",
        "class A:\n",
        "  temp = 7\n",
        "  def __init__(self):\n",
        "    self.sum, self.y = 0, 0\n",
        "    self.y = A.temp - 1\n",
        "    self.sum = A.temp + 2\n",
        "    A.temp -= 3\n",
        "  def methodA(self, m, n):\n",
        "    x = 4\n",
        "    n[0] += 1\n",
        "    self.y = self.y + m + A.temp\n",
        "    A.temp += 2\n",
        "    x = x + 3 + n[0]\n",
        "    n[0] = self.sum + 2\n",
        "    print(f\"{x} {self.y} {self.sum}\")\n",
        "  def get_A_sum(self):\n",
        "    return self.sum\n",
        "  def update_A_y(self, val):\n",
        "    self.y = val\n",
        "class B(A):\n",
        "  x = 2\n",
        "  def __init__(self, b = None):\n",
        "    super().__init__()\n",
        "    self.sum = 2\n",
        "    if b == None:  \n",
        "      self.y = self.temp + 1    \n",
        "      B.x = 4 + A.temp + self.x\n",
        "      A.temp -= 2\n",
        "    else:\n",
        "      self.sum = self.sum + self.get_A_sum()\n",
        "      B.x = b.x + self.x\n",
        "  def methodB(self, m, n):\n",
        "    y = [0]\n",
        "    self.update_A_y(y[0] + self.y + m)\n",
        "    B.x = self.y + 4 +  self.temp - n\n",
        "    self.methodA(self.x, y)\n",
        "    self.sum = self.x + y[0] + self.get_A_sum()\n",
        "    print(f\"{self.x} {y[0]} {self.sum}\")\n",
        "\n",
        "x = [32]\n",
        "a1 = A()\n",
        "b1 = B()\n",
        "b2 = B(b1)\n",
        "a1.methodA(2, x)\n",
        "b2.methodB(2, 3)\n",
        "a1.methodA(3, x)\n"
      ],
      "metadata": {
        "colab": {
          "base_uri": "https://localhost:8080/"
        },
        "id": "BemTya-Q0CNw",
        "outputId": "a1ae4da0-821e-4530-bf7b-7dcf37d8c811"
      },
      "execution_count": null,
      "outputs": [
        {
          "output_type": "stream",
          "name": "stdout",
          "text": [
            "40 4 9\n",
            "8 -3 4\n",
            "-1 6 9\n",
            "19 7 9\n"
          ]
        }
      ]
    }
  ]
}